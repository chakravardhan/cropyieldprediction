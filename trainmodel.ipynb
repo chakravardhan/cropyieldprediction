{
 "cells": [
  {
   "cell_type": "code",
   "execution_count": 1,
   "metadata": {},
   "outputs": [
    {
     "name": "stderr",
     "output_type": "stream",
     "text": [
      "D:\\Softwares\\Anaconda\\envs\\tensorflow-gpu\\lib\\site-packages\\h5py\\__init__.py:36: FutureWarning: Conversion of the second argument of issubdtype from `float` to `np.floating` is deprecated. In future, it will be treated as `np.float64 == np.dtype(float).type`.\n",
      "  from ._conv import register_converters as _register_converters\n"
     ]
    }
   ],
   "source": [
    "from conv_net_model_deep4 import *\n",
    "import os\n",
    "import logging\n",
    "import matplotlib.pyplot as plt"
   ]
  },
  {
   "cell_type": "code",
   "execution_count": 2,
   "metadata": {},
   "outputs": [],
   "source": [
    "predict_year = 2013\n",
    "config = Config()\n",
    "# RUN_NAME = \"\" # DON'T FORGET TO CHANGE THIS!!!\n",
    "config.save_path = os.path.expanduser('D:\\itd\\out')\n",
    "\n",
    "assert(len(os.listdir(config.save_path)) <= 1)\n",
    "logging.basicConfig(filename=os.path.join(config.save_path, str(predict_year)+'.log'),level=logging.DEBUG)\n",
    "\n",
    "    "
   ]
  },
  {
   "cell_type": "code",
   "execution_count": 3,
   "metadata": {},
   "outputs": [],
   "source": [
    "filename = os.path.expanduser('D:\\itd\\histdata\\data_output_full_histogram_all_full' + '.npz')\n",
    "content = np.load(filename)\n",
    "image_all = content['output_image']\n",
    "yield_all = content['output_yield']\n",
    "year_all = content['output_year']\n",
    "locations_all = content['output_locations']\n",
    "index_all = content['output_index']"
   ]
  },
  {
   "cell_type": "code",
   "execution_count": 4,
   "metadata": {},
   "outputs": [
    {
     "data": {
      "text/plain": [
       "array([2015., 2014., 2013., 2012., 2011., 2010., 2009., 2007., 2006.,\n",
       "       2005., 2004., 2003., 2016., 2015., 2014., 2013., 2012., 2011.,\n",
       "       2010., 2009., 2008., 2007., 2006., 2005., 2004., 2003., 2016.,\n",
       "       2015., 2014., 2013., 2012., 2011., 2010., 2009., 2007., 2006.,\n",
       "       2005., 2004., 2003., 2016., 2008., 2008., 2008., 2008., 2007.,\n",
       "       2007., 2007., 2006., 2006., 2006., 2005., 2005., 2005., 2005.,\n",
       "       2005., 2005., 2005., 2005., 2005., 2004., 2004., 2004., 2004.,\n",
       "       2004., 2004., 2004., 2004., 2004., 2004., 2003., 2003., 2003.,\n",
       "       2003., 2003., 2003., 2003., 2016., 2016., 2016., 2016., 2016.,\n",
       "       2016., 2016., 2016., 2016., 2016., 2015., 2015., 2015., 2015.,\n",
       "       2015., 2015., 2015., 2015., 2014., 2014., 2014., 2014., 2014.,\n",
       "       2014., 2014., 2014., 2013., 2013., 2013., 2013., 2013., 2013.,\n",
       "       2013., 2013., 2012., 2012., 2012., 2012., 2012., 2012., 2012.,\n",
       "       2012., 2011., 2011., 2011., 2011., 2011., 2011., 2011., 2011.,\n",
       "       2010., 2010., 2010., 2010., 2010., 2010., 2010., 2009., 2009.,\n",
       "       2009., 2009., 2009., 2009., 2009., 2009., 2008., 2008., 2008.,\n",
       "       2008., 2008., 2008., 2008., 2008., 2007., 2007., 2007., 2007.,\n",
       "       2007., 2007., 2007., 2007., 2007., 2006., 2006., 2006., 2006.,\n",
       "       2006., 2006., 2006., 2006., 2006., 2005., 2005., 2005., 2005.,\n",
       "       2005., 2005., 2005., 2005., 2005., 2004., 2004., 2004., 2004.,\n",
       "       2004., 2004., 2004., 2004., 2004., 2003., 2003., 2003., 2003.,\n",
       "       2003., 2003., 2003., 2003., 2003., 2016., 2016., 2016., 2016.,\n",
       "       2016., 2016., 2016., 2016., 2016., 2016.])"
      ]
     },
     "execution_count": 4,
     "metadata": {},
     "output_type": "execute_result"
    }
   ],
   "source": [
    "year_all "
   ]
  },
  {
   "cell_type": "code",
   "execution_count": 5,
   "metadata": {},
   "outputs": [],
   "source": [
    "list_delete=[]\n",
    "for i in range(image_all.shape[0]):\n",
    "    if np.sum(image_all[i,:,:,:])<=287:\n",
    "        if year_all[i]<2016:\n",
    "            list_delete.append(i)\n",
    "image_all=np.delete(image_all,list_delete,0)\n",
    "yield_all=np.delete(yield_all,list_delete,0)\n",
    "year_all = np.delete(year_all,list_delete, 0)\n",
    "locations_all = np.delete(locations_all, list_delete, 0)\n",
    "index_all = np.delete(index_all, list_delete, 0)"
   ]
  },
  {
   "cell_type": "code",
   "execution_count": 6,
   "metadata": {},
   "outputs": [
    {
     "data": {
      "text/plain": [
       "(197, 32, 32, 9)"
      ]
     },
     "execution_count": 6,
     "metadata": {},
     "output_type": "execute_result"
    }
   ],
   "source": [
    "image_all.shape"
   ]
  },
  {
   "cell_type": "code",
   "execution_count": 7,
   "metadata": {},
   "outputs": [
    {
     "data": {
      "text/plain": [
       "array([2015., 2014., 2013., 2012., 2011., 2010., 2009., 2007., 2006.,\n",
       "       2005., 2004., 2003., 2016., 2015., 2014., 2013., 2012., 2011.,\n",
       "       2010., 2009., 2008., 2007., 2006., 2005., 2004., 2003., 2016.,\n",
       "       2015., 2014., 2013., 2012., 2011., 2010., 2009., 2007., 2006.,\n",
       "       2005., 2004., 2003., 2016., 2008., 2008., 2008., 2008., 2007.,\n",
       "       2007., 2007., 2006., 2006., 2006., 2005., 2005., 2005., 2005.,\n",
       "       2005., 2005., 2005., 2005., 2005., 2004., 2004., 2004., 2004.,\n",
       "       2004., 2004., 2004., 2004., 2004., 2004., 2003., 2003., 2003.,\n",
       "       2003., 2003., 2003., 2016., 2016., 2016., 2016., 2016., 2016.,\n",
       "       2016., 2016., 2016., 2016., 2015., 2015., 2015., 2015., 2015.,\n",
       "       2015., 2015., 2014., 2014., 2014., 2014., 2014., 2014., 2014.,\n",
       "       2014., 2013., 2013., 2013., 2013., 2013., 2013., 2013., 2013.,\n",
       "       2012., 2012., 2012., 2012., 2012., 2012., 2012., 2012., 2011.,\n",
       "       2011., 2011., 2011., 2011., 2011., 2010., 2010., 2010., 2010.,\n",
       "       2010., 2010., 2010., 2009., 2009., 2009., 2009., 2009., 2009.,\n",
       "       2009., 2008., 2008., 2008., 2008., 2008., 2008., 2008., 2008.,\n",
       "       2007., 2007., 2007., 2007., 2007., 2007., 2007., 2007., 2007.,\n",
       "       2006., 2006., 2006., 2006., 2006., 2006., 2006., 2006., 2006.,\n",
       "       2005., 2005., 2005., 2005., 2005., 2005., 2005., 2005., 2005.,\n",
       "       2004., 2004., 2004., 2004., 2004., 2004., 2004., 2004., 2004.,\n",
       "       2003., 2003., 2003., 2003., 2003., 2003., 2003., 2016., 2016.,\n",
       "       2016., 2016., 2016., 2016., 2016., 2016., 2016., 2016.])"
      ]
     },
     "execution_count": 7,
     "metadata": {},
     "output_type": "execute_result"
    }
   ],
   "source": [
    "year_all"
   ]
  },
  {
   "cell_type": "code",
   "execution_count": 8,
   "metadata": {},
   "outputs": [
    {
     "data": {
      "text/plain": [
       "array([0.        , 0.        , 0.        , 0.        , 0.        ,\n",
       "       0.        , 0.00138985, 0.00069493, 0.        , 0.00347464,\n",
       "       0.00138985, 0.00347464, 0.00833912, 0.01528839, 0.03266157,\n",
       "       0.03822099, 0.05559416, 0.05072967, 0.07783183, 0.10145935,\n",
       "       0.09103544, 0.10771369, 0.10076442, 0.08061154, 0.07505212,\n",
       "       0.04239055, 0.04169562, 0.02015288, 0.01945796, 0.01042391,\n",
       "       0.01042391, 0.00972898])"
      ]
     },
     "execution_count": 8,
     "metadata": {},
     "output_type": "execute_result"
    }
   ],
   "source": [
    "image_all[0,:,1,1]"
   ]
  },
  {
   "cell_type": "code",
   "execution_count": 8,
   "metadata": {},
   "outputs": [
    {
     "name": "stdout",
     "output_type": "stream",
     "text": [
      "train size 142\n",
      "validate size 11\n"
     ]
    }
   ],
   "source": [
    "# split into train and validate\n",
    "index_train = np.nonzero(year_all < predict_year)[0]\n",
    "index_validate = np.nonzero(year_all == predict_year)[0]\n",
    "print ('train size',index_train.shape[0])\n",
    "print ('validate size',index_validate.shape[0])"
   ]
  },
  {
   "cell_type": "code",
   "execution_count": 9,
   "metadata": {},
   "outputs": [],
   "source": [
    " # calc train image mean (for each band), and then detract (broadcast)\n",
    "image_mean=np.mean(image_all[index_train],(0,1,2))\n",
    "image_all = image_all - image_mean\n",
    "\n",
    "image_validate=image_all[index_validate]\n",
    "yield_validate=yield_all[index_validate]"
   ]
  },
  {
   "cell_type": "code",
   "execution_count": 10,
   "metadata": {},
   "outputs": [],
   "source": [
    "model= NeuralModel(config,'net')"
   ]
  },
  {
   "cell_type": "code",
   "execution_count": 11,
   "metadata": {},
   "outputs": [
    {
     "name": "stdout",
     "output_type": "stream",
     "text": [
      "WARNING:tensorflow:From D:\\Softwares\\Anaconda\\envs\\tensorflow-gpu\\lib\\site-packages\\tensorflow\\python\\util\\tf_should_use.py:118: initialize_all_variables (from tensorflow.python.ops.variables) is deprecated and will be removed after 2017-03-02.\n",
      "Instructions for updating:\n",
      "Use `tf.global_variables_initializer` instead.\n"
     ]
    }
   ],
   "source": [
    "gpu_options = tf.GPUOptions(per_process_gpu_memory_fraction=0.22)\n",
    "    # Launch the graph.\n",
    "config1 = tf.ConfigProto()\n",
    "config1.gpu_options.allow_growth = True\n",
    "sess = tf.Session(config = config1)\n",
    "sess = tf.Session(config=tf.ConfigProto(gpu_options=gpu_options))\n",
    "sess.run(tf.initialize_all_variables())\n",
    "summary_train_loss = []\n",
    "summary_eval_loss = []\n",
    "summary_RMSE = []\n",
    "summary_ME = []"
   ]
  },
  {
   "cell_type": "code",
   "execution_count": 12,
   "metadata": {},
   "outputs": [],
   "source": [
    "train_loss=0\n",
    "val_loss=0\n",
    "val_prediction = 0\n",
    "val_deviation = np.zeros([config.B])"
   ]
  },
  {
   "cell_type": "code",
   "execution_count": 13,
   "metadata": {},
   "outputs": [],
   "source": [
    "RMSE_min = 100"
   ]
  },
  {
   "cell_type": "code",
   "execution_count": 15,
   "metadata": {},
   "outputs": [],
   "source": [
    "index_train_batch = np.random.choice(index_train,size=config.B)\n",
    "image_train_batch = image_all[index_train_batch,:,0:config.H,:]\n",
    "yield_train_batch = yield_all[index_train_batch]\n",
    "year_train_batch = year_all[index_train_batch,np.newaxis]\n",
    "index_validate_batch = np.random.choice(index_validate, size=config.B)"
   ]
  },
  {
   "cell_type": "code",
   "execution_count": 16,
   "metadata": {},
   "outputs": [
    {
     "data": {
      "text/plain": [
       "array([ 74, 136,  38,  17, 134, 186, 132, 166, 123, 175, 179,  32,  16,\n",
       "       184,  58, 177,  64,  49, 183, 136, 155, 111,  53,   5, 111, 171,\n",
       "        72, 138, 143, 131, 181, 153], dtype=int64)"
      ]
     },
     "execution_count": 16,
     "metadata": {},
     "output_type": "execute_result"
    }
   ],
   "source": [
    "index_train_batch"
   ]
  },
  {
   "cell_type": "code",
   "execution_count": 17,
   "metadata": {
    "scrolled": true
   },
   "outputs": [
    {
     "data": {
      "text/plain": [
       "(32, 32, 32, 9)"
      ]
     },
     "execution_count": 17,
     "metadata": {},
     "output_type": "execute_result"
    }
   ],
   "source": [
    "image_train_batch.shape"
   ]
  },
  {
   "cell_type": "code",
   "execution_count": 18,
   "metadata": {},
   "outputs": [
    {
     "data": {
      "text/plain": [
       "array([-0.03125   , -0.03125   , -0.03125   , -0.03125   , -0.03125   ,\n",
       "       -0.03125   , -0.03125   , -0.03125   , -0.03125   , -0.03125   ,\n",
       "       -0.03125   , -0.03125   , -0.03125   , -0.03125   , -0.03125   ,\n",
       "       -0.03125   , -0.0241578 ,  0.07513298,  0.00421099,  0.01130319,\n",
       "        0.09640957,  0.06804078,  0.11059397,  0.05385638,  0.05385638,\n",
       "        0.06094858,  0.01130319,  0.05385638, -0.0170656 , -0.00288121,\n",
       "       -0.03125   , -0.0241578 ])"
      ]
     },
     "execution_count": 18,
     "metadata": {},
     "output_type": "execute_result"
    }
   ],
   "source": [
    "image_train_batch[0,:,1,1]"
   ]
  },
  {
   "cell_type": "code",
   "execution_count": 19,
   "metadata": {},
   "outputs": [
    {
     "data": {
      "text/plain": [
       "array([31. , 31. , 36.7, 37.3, 46. , 38. , 44. , 20. , 15.9, 41. , 42. ,\n",
       "       32. , 42.8, 34. , 33. , 41. , 33. , 25.6, 38. , 31. , 35. , 41. ,\n",
       "       32. , 36.1, 41. , 41. , 30. , 27. , 31. , 41. , 33. , 36. ])"
      ]
     },
     "execution_count": 19,
     "metadata": {},
     "output_type": "execute_result"
    }
   ],
   "source": [
    "yield_train_batch"
   ]
  },
  {
   "cell_type": "code",
   "execution_count": 30,
   "metadata": {},
   "outputs": [],
   "source": [
    "_, train_loss = sess.run([model.train_op, model.loss_err], feed_dict={\n",
    "                model.x:image_train_batch,\n",
    "                model.y:yield_train_batch,\n",
    "                model.lr:config.lr,\n",
    "                model.keep_prob: config.drop_out\n",
    "                })"
   ]
  },
  {
   "cell_type": "code",
   "execution_count": 21,
   "metadata": {},
   "outputs": [
    {
     "data": {
      "text/plain": [
       "19616.941"
      ]
     },
     "execution_count": 21,
     "metadata": {},
     "output_type": "execute_result"
    }
   ],
   "source": [
    "train_loss"
   ]
  },
  {
   "cell_type": "code",
   "execution_count": 22,
   "metadata": {},
   "outputs": [],
   "source": [
    "val_loss,fc6,W,B = sess.run([model.loss_err,model.fc6,model.dense_W,model.dense_B], feed_dict={\n",
    "                    model.x: image_all[index_validate_batch, :, 0:config.H, :],\n",
    "                    model.y: yield_all[index_validate_batch],\n",
    "                    model.keep_prob: 1\n",
    "                })"
   ]
  },
  {
   "cell_type": "code",
   "execution_count": 23,
   "metadata": {
    "scrolled": true
   },
   "outputs": [
    {
     "name": "stdout",
     "output_type": "stream",
     "text": [
      "predict year2013step0 19616.941 164471.77 0.001\n"
     ]
    }
   ],
   "source": [
    "print ('predict year'+str(predict_year)+'step'+str(0),train_loss,val_loss,config.lr)"
   ]
  },
  {
   "cell_type": "code",
   "execution_count": 24,
   "metadata": {},
   "outputs": [],
   "source": [
    "pred = []\n",
    "real = []\n",
    "j=0\n",
    "real_temp = yield_validate[j * config.B:(j + 1) * config.B]\n",
    "pred_temp= sess.run(model.logits, feed_dict={\n",
    "                    model.x: image_validate[j * config.B:(j + 1) * config.B,:,0:config.H,:],\n",
    "                    model.y: yield_validate[j * config.B:(j + 1) * config.B],\n",
    "                    model.keep_prob: 1\n",
    "                        })\n",
    "pred.append(pred_temp)\n",
    "real.append(real_temp)"
   ]
  },
  {
   "cell_type": "code",
   "execution_count": 25,
   "metadata": {},
   "outputs": [],
   "source": [
    "RMSE=np.sqrt(np.mean((np.array(pred)-np.array(real))**2))"
   ]
  },
  {
   "cell_type": "code",
   "execution_count": 26,
   "metadata": {
    "scrolled": false
   },
   "outputs": [
    {
     "data": {
      "text/plain": [
       "101.30316541821968"
      ]
     },
     "execution_count": 26,
     "metadata": {},
     "output_type": "execute_result"
    }
   ],
   "source": [
    "RMSE"
   ]
  },
  {
   "cell_type": "code",
   "execution_count": 14,
   "metadata": {},
   "outputs": [],
   "source": [
    "saver=tf.train.Saver()"
   ]
  },
  {
   "cell_type": "code",
   "execution_count": 20,
   "metadata": {
    "collapsed": true
   },
   "outputs": [
    {
     "name": "stdout",
     "output_type": "stream",
     "text": [
      "predict year2013step0 733.2328 449.61414 0.001\n",
      "Validation set RMSE 5.318689165522022 ME 2.145584175803445 RMSE_min 3.0399328479837493\n",
      "predict year2013step200 1176.3335 498.96744 0.001\n",
      "Validation set RMSE 5.3645961617417735 ME -2.305898770419034 RMSE_min 3.0399328479837493\n",
      "predict year2013step400 796.74896 411.49847 0.001\n",
      "Validation set RMSE 5.150938623693289 ME -0.020417230779474046 RMSE_min 3.0399328479837493\n"
     ]
    },
    {
     "ename": "KeyboardInterrupt",
     "evalue": "",
     "output_type": "error",
     "traceback": [
      "\u001b[1;31m---------------------------------------------------------------------------\u001b[0m",
      "\u001b[1;31mKeyboardInterrupt\u001b[0m                         Traceback (most recent call last)",
      "\u001b[1;32m<ipython-input-20-53fb07c5171b>\u001b[0m in \u001b[0;36m<module>\u001b[1;34m()\u001b[0m\n\u001b[0;32m     15\u001b[0m                 \u001b[0mmodel\u001b[0m\u001b[1;33m.\u001b[0m\u001b[0my\u001b[0m\u001b[1;33m:\u001b[0m\u001b[0myield_train_batch\u001b[0m\u001b[1;33m,\u001b[0m\u001b[1;33m\u001b[0m\u001b[0m\n\u001b[0;32m     16\u001b[0m                 \u001b[0mmodel\u001b[0m\u001b[1;33m.\u001b[0m\u001b[0mlr\u001b[0m\u001b[1;33m:\u001b[0m\u001b[0mconfig\u001b[0m\u001b[1;33m.\u001b[0m\u001b[0mlr\u001b[0m\u001b[1;33m,\u001b[0m\u001b[1;33m\u001b[0m\u001b[0m\n\u001b[1;32m---> 17\u001b[1;33m                 \u001b[0mmodel\u001b[0m\u001b[1;33m.\u001b[0m\u001b[0mkeep_prob\u001b[0m\u001b[1;33m:\u001b[0m \u001b[0mconfig\u001b[0m\u001b[1;33m.\u001b[0m\u001b[0mdrop_out\u001b[0m\u001b[1;33m\u001b[0m\u001b[0m\n\u001b[0m\u001b[0;32m     18\u001b[0m                 })\n\u001b[0;32m     19\u001b[0m             \u001b[1;32mif\u001b[0m \u001b[0mi\u001b[0m\u001b[1;33m%\u001b[0m\u001b[1;36m200\u001b[0m \u001b[1;33m==\u001b[0m \u001b[1;36m0\u001b[0m\u001b[1;33m:\u001b[0m\u001b[1;33m\u001b[0m\u001b[0m\n",
      "\u001b[1;32mD:\\Softwares\\Anaconda\\envs\\tensorflow-gpu\\lib\\site-packages\\tensorflow\\python\\client\\session.py\u001b[0m in \u001b[0;36mrun\u001b[1;34m(self, fetches, feed_dict, options, run_metadata)\u001b[0m\n\u001b[0;32m    903\u001b[0m     \u001b[1;32mtry\u001b[0m\u001b[1;33m:\u001b[0m\u001b[1;33m\u001b[0m\u001b[0m\n\u001b[0;32m    904\u001b[0m       result = self._run(None, fetches, feed_dict, options_ptr,\n\u001b[1;32m--> 905\u001b[1;33m                          run_metadata_ptr)\n\u001b[0m\u001b[0;32m    906\u001b[0m       \u001b[1;32mif\u001b[0m \u001b[0mrun_metadata\u001b[0m\u001b[1;33m:\u001b[0m\u001b[1;33m\u001b[0m\u001b[0m\n\u001b[0;32m    907\u001b[0m         \u001b[0mproto_data\u001b[0m \u001b[1;33m=\u001b[0m \u001b[0mtf_session\u001b[0m\u001b[1;33m.\u001b[0m\u001b[0mTF_GetBuffer\u001b[0m\u001b[1;33m(\u001b[0m\u001b[0mrun_metadata_ptr\u001b[0m\u001b[1;33m)\u001b[0m\u001b[1;33m\u001b[0m\u001b[0m\n",
      "\u001b[1;32mD:\\Softwares\\Anaconda\\envs\\tensorflow-gpu\\lib\\site-packages\\tensorflow\\python\\client\\session.py\u001b[0m in \u001b[0;36m_run\u001b[1;34m(self, handle, fetches, feed_dict, options, run_metadata)\u001b[0m\n\u001b[0;32m   1135\u001b[0m     \u001b[1;32mif\u001b[0m \u001b[0mfinal_fetches\u001b[0m \u001b[1;32mor\u001b[0m \u001b[0mfinal_targets\u001b[0m \u001b[1;32mor\u001b[0m \u001b[1;33m(\u001b[0m\u001b[0mhandle\u001b[0m \u001b[1;32mand\u001b[0m \u001b[0mfeed_dict_tensor\u001b[0m\u001b[1;33m)\u001b[0m\u001b[1;33m:\u001b[0m\u001b[1;33m\u001b[0m\u001b[0m\n\u001b[0;32m   1136\u001b[0m       results = self._do_run(handle, final_targets, final_fetches,\n\u001b[1;32m-> 1137\u001b[1;33m                              feed_dict_tensor, options, run_metadata)\n\u001b[0m\u001b[0;32m   1138\u001b[0m     \u001b[1;32melse\u001b[0m\u001b[1;33m:\u001b[0m\u001b[1;33m\u001b[0m\u001b[0m\n\u001b[0;32m   1139\u001b[0m       \u001b[0mresults\u001b[0m \u001b[1;33m=\u001b[0m \u001b[1;33m[\u001b[0m\u001b[1;33m]\u001b[0m\u001b[1;33m\u001b[0m\u001b[0m\n",
      "\u001b[1;32mD:\\Softwares\\Anaconda\\envs\\tensorflow-gpu\\lib\\site-packages\\tensorflow\\python\\client\\session.py\u001b[0m in \u001b[0;36m_do_run\u001b[1;34m(self, handle, target_list, fetch_list, feed_dict, options, run_metadata)\u001b[0m\n\u001b[0;32m   1353\u001b[0m     \u001b[1;32mif\u001b[0m \u001b[0mhandle\u001b[0m \u001b[1;32mis\u001b[0m \u001b[1;32mNone\u001b[0m\u001b[1;33m:\u001b[0m\u001b[1;33m\u001b[0m\u001b[0m\n\u001b[0;32m   1354\u001b[0m       return self._do_call(_run_fn, self._session, feeds, fetches, targets,\n\u001b[1;32m-> 1355\u001b[1;33m                            options, run_metadata)\n\u001b[0m\u001b[0;32m   1356\u001b[0m     \u001b[1;32melse\u001b[0m\u001b[1;33m:\u001b[0m\u001b[1;33m\u001b[0m\u001b[0m\n\u001b[0;32m   1357\u001b[0m       \u001b[1;32mreturn\u001b[0m \u001b[0mself\u001b[0m\u001b[1;33m.\u001b[0m\u001b[0m_do_call\u001b[0m\u001b[1;33m(\u001b[0m\u001b[0m_prun_fn\u001b[0m\u001b[1;33m,\u001b[0m \u001b[0mself\u001b[0m\u001b[1;33m.\u001b[0m\u001b[0m_session\u001b[0m\u001b[1;33m,\u001b[0m \u001b[0mhandle\u001b[0m\u001b[1;33m,\u001b[0m \u001b[0mfeeds\u001b[0m\u001b[1;33m,\u001b[0m \u001b[0mfetches\u001b[0m\u001b[1;33m)\u001b[0m\u001b[1;33m\u001b[0m\u001b[0m\n",
      "\u001b[1;32mD:\\Softwares\\Anaconda\\envs\\tensorflow-gpu\\lib\\site-packages\\tensorflow\\python\\client\\session.py\u001b[0m in \u001b[0;36m_do_call\u001b[1;34m(self, fn, *args)\u001b[0m\n\u001b[0;32m   1359\u001b[0m   \u001b[1;32mdef\u001b[0m \u001b[0m_do_call\u001b[0m\u001b[1;33m(\u001b[0m\u001b[0mself\u001b[0m\u001b[1;33m,\u001b[0m \u001b[0mfn\u001b[0m\u001b[1;33m,\u001b[0m \u001b[1;33m*\u001b[0m\u001b[0margs\u001b[0m\u001b[1;33m)\u001b[0m\u001b[1;33m:\u001b[0m\u001b[1;33m\u001b[0m\u001b[0m\n\u001b[0;32m   1360\u001b[0m     \u001b[1;32mtry\u001b[0m\u001b[1;33m:\u001b[0m\u001b[1;33m\u001b[0m\u001b[0m\n\u001b[1;32m-> 1361\u001b[1;33m       \u001b[1;32mreturn\u001b[0m \u001b[0mfn\u001b[0m\u001b[1;33m(\u001b[0m\u001b[1;33m*\u001b[0m\u001b[0margs\u001b[0m\u001b[1;33m)\u001b[0m\u001b[1;33m\u001b[0m\u001b[0m\n\u001b[0m\u001b[0;32m   1362\u001b[0m     \u001b[1;32mexcept\u001b[0m \u001b[0merrors\u001b[0m\u001b[1;33m.\u001b[0m\u001b[0mOpError\u001b[0m \u001b[1;32mas\u001b[0m \u001b[0me\u001b[0m\u001b[1;33m:\u001b[0m\u001b[1;33m\u001b[0m\u001b[0m\n\u001b[0;32m   1363\u001b[0m       \u001b[0mmessage\u001b[0m \u001b[1;33m=\u001b[0m \u001b[0mcompat\u001b[0m\u001b[1;33m.\u001b[0m\u001b[0mas_text\u001b[0m\u001b[1;33m(\u001b[0m\u001b[0me\u001b[0m\u001b[1;33m.\u001b[0m\u001b[0mmessage\u001b[0m\u001b[1;33m)\u001b[0m\u001b[1;33m\u001b[0m\u001b[0m\n",
      "\u001b[1;32mD:\\Softwares\\Anaconda\\envs\\tensorflow-gpu\\lib\\site-packages\\tensorflow\\python\\client\\session.py\u001b[0m in \u001b[0;36m_run_fn\u001b[1;34m(session, feed_dict, fetch_list, target_list, options, run_metadata)\u001b[0m\n\u001b[0;32m   1338\u001b[0m         \u001b[1;32melse\u001b[0m\u001b[1;33m:\u001b[0m\u001b[1;33m\u001b[0m\u001b[0m\n\u001b[0;32m   1339\u001b[0m           return tf_session.TF_Run(session, options, feed_dict, fetch_list,\n\u001b[1;32m-> 1340\u001b[1;33m                                    target_list, status, run_metadata)\n\u001b[0m\u001b[0;32m   1341\u001b[0m \u001b[1;33m\u001b[0m\u001b[0m\n\u001b[0;32m   1342\u001b[0m     \u001b[1;32mdef\u001b[0m \u001b[0m_prun_fn\u001b[0m\u001b[1;33m(\u001b[0m\u001b[0msession\u001b[0m\u001b[1;33m,\u001b[0m \u001b[0mhandle\u001b[0m\u001b[1;33m,\u001b[0m \u001b[0mfeed_dict\u001b[0m\u001b[1;33m,\u001b[0m \u001b[0mfetch_list\u001b[0m\u001b[1;33m)\u001b[0m\u001b[1;33m:\u001b[0m\u001b[1;33m\u001b[0m\u001b[0m\n",
      "\u001b[1;31mKeyboardInterrupt\u001b[0m: "
     ]
    }
   ],
   "source": [
    "for i in range(5000):\n",
    "            if i==3500:\n",
    "                config.lr/=10\n",
    "            if i==20000:\n",
    "                config.lr/=10\n",
    "            index_train_batch = np.random.choice(index_train,size=config.B)\n",
    "            image_train_batch = image_all[index_train_batch,:,0:config.H,:]\n",
    "            yield_train_batch = yield_all[index_train_batch]\n",
    "            year_train_batch = year_all[index_train_batch,np.newaxis]\n",
    "\n",
    "            index_validate_batch = np.random.choice(index_validate, size=config.B)\n",
    "\n",
    "            _, train_loss = sess.run([model.train_op, model.loss_err], feed_dict={\n",
    "                model.x:image_train_batch,\n",
    "                model.y:yield_train_batch,\n",
    "                model.lr:config.lr,\n",
    "                model.keep_prob: config.drop_out\n",
    "                })\n",
    "            if i%200 == 0:\n",
    "                val_loss,fc6,W,B = sess.run([model.loss_err,model.fc6,model.dense_W,model.dense_B], feed_dict={\n",
    "                    model.x: image_all[index_validate_batch, :, 0:config.H, :],\n",
    "                    model.y: yield_all[index_validate_batch],\n",
    "                    model.keep_prob: 1\n",
    "                })\n",
    "                print ('predict year'+str(predict_year)+'step'+str(i),train_loss,val_loss,config.lr)\n",
    "                logging.info('predict year %d step %d %f %f %f',predict_year,i,train_loss,val_loss,config.lr)\n",
    "            if i%200 == 0:\n",
    "                # do validation\n",
    "                pred = []\n",
    "                real = []\n",
    "                size = image_validate.shape[0]//config.B\n",
    "                if(size==0):\n",
    "                    size=1\n",
    "                for j in range(size):\n",
    "                    real_temp = yield_validate[j * config.B:(j + 1) * config.B]\n",
    "                    pred_temp= sess.run(model.logits, feed_dict={\n",
    "                        model.x: image_validate[j * config.B:(j + 1) * config.B,:,0:config.H,:],\n",
    "                        model.y: yield_validate[j * config.B:(j + 1) * config.B],\n",
    "                        model.keep_prob: 1\n",
    "                        })\n",
    "                    pred.append(pred_temp)\n",
    "                    real.append(real_temp)\n",
    "                pred=np.concatenate([pred])\n",
    "                real=np.concatenate([real])\n",
    "                RMSE=np.sqrt(np.mean((pred-real)**2))\n",
    "                ME=np.mean(pred-real)\n",
    "\n",
    "                if RMSE<RMSE_min:\n",
    "                    RMSE_min=RMSE\n",
    "                    save_path = saver.save(sess, config.save_path + str(predict_year)+'CNN_model.ckpt')\n",
    "                    print('save in file: %s' % save_path)\n",
    "                    np.savez(config.save_path+str(predict_year)+'result.npz',\n",
    "                        summary_train_loss=summary_train_loss,summary_eval_loss=summary_eval_loss,\n",
    "                        summary_RMSE=summary_RMSE,summary_ME=summary_RMSE)\n",
    "\n",
    "                print ('Validation set','RMSE',RMSE,'ME',ME,'RMSE_min',RMSE_min)\n",
    "                logging.info('Validation set RMSE %f ME %f RMSE_min %f',RMSE,ME,RMSE_min)\n",
    "            \n",
    "                summary_train_loss.append(train_loss)\n",
    "                summary_eval_loss.append(val_loss)\n",
    "                summary_RMSE.append(RMSE)\n",
    "                summary_ME.append(ME)"
   ]
  },
  {
   "cell_type": "code",
   "execution_count": 29,
   "metadata": {},
   "outputs": [
    {
     "data": {
      "text/plain": [
       "3.0399328479837493"
      ]
     },
     "execution_count": 29,
     "metadata": {},
     "output_type": "execute_result"
    }
   ],
   "source": [
    "RMSE_min"
   ]
  },
  {
   "cell_type": "code",
   "execution_count": 30,
   "metadata": {},
   "outputs": [
    {
     "data": {
      "text/plain": [
       "array([[41.518314, 38.5433  , 35.493244, 34.074783, 34.010975, 34.98473 ,\n",
       "        52.427742, 44.930035, 42.713367, 35.21586 , 47.56306 ]],\n",
       "      dtype=float32)"
      ]
     },
     "execution_count": 30,
     "metadata": {},
     "output_type": "execute_result"
    }
   ],
   "source": [
    "pred"
   ]
  },
  {
   "cell_type": "code",
   "execution_count": 31,
   "metadata": {
    "scrolled": false
   },
   "outputs": [
    {
     "data": {
      "text/plain": [
       "array([[39.8, 41.4, 39.3, 35.1, 42.4, 38.3, 41.9, 47.9, 38.7, 36.2, 40.7]])"
      ]
     },
     "execution_count": 31,
     "metadata": {},
     "output_type": "execute_result"
    }
   ],
   "source": [
    "real"
   ]
  },
  {
   "cell_type": "code",
   "execution_count": 32,
   "metadata": {},
   "outputs": [],
   "source": [
    "save_path = saver.save(sess, config.save_path + str(predict_year)+'CNN_model.ckpt')"
   ]
  },
  {
   "cell_type": "code",
   "execution_count": 34,
   "metadata": {},
   "outputs": [],
   "source": [
    "pred_out = []\n",
    "real_out = []\n",
    "feature_out = []\n",
    "year_out = []\n",
    "locations_out =[]\n",
    "index_out = []"
   ]
  },
  {
   "cell_type": "code",
   "execution_count": 36,
   "metadata": {},
   "outputs": [],
   "source": [
    "for i in range(image_all.shape[0] // config.B):\n",
    "            feature,pred = sess.run(\n",
    "                [model.fc6,model.logits], feed_dict={\n",
    "                model.x: image_all[i * config.B:(i + 1) * config.B,:,0:config.H,:],\n",
    "                model.y: yield_all[i * config.B:(i + 1) * config.B],\n",
    "                model.keep_prob:1\n",
    "            })\n",
    "            real = yield_all[i * config.B:(i + 1) * config.B]\n",
    "\n",
    "            pred_out.append(pred)\n",
    "            real_out.append(real)\n",
    "            feature_out.append(feature)\n",
    "            year_out.append(year_all[i * config.B:(i + 1) * config.B])\n",
    "            locations_out.append(locations_all[i * config.B:(i + 1) * config.B])\n",
    "            index_out.append(index_all[i * config.B:(i + 1) * config.B])\n",
    "            \n",
    "            weight_out, b_out = sess.run(\n",
    "            [model.dense_W, model.dense_B], feed_dict={\n",
    "                model.x: image_all[0 * config.B:(0 + 1) * config.B, :, 0:config.H, :],\n",
    "                model.y: yield_all[0 * config.B:(0 + 1) * config.B],\n",
    "                model.keep_prob: 1\n",
    "            })"
   ]
  },
  {
   "cell_type": "code",
   "execution_count": 37,
   "metadata": {
    "collapsed": true
   },
   "outputs": [
    {
     "data": {
      "text/plain": [
       "[array([42.564644, 52.241837, 49.929462, 37.287384, 38.858597, 35.089443,\n",
       "        49.498753, 31.172672, 45.144234, 42.752384, 52.883335, 40.89549 ,\n",
       "        33.917515, 41.800713, 55.30551 , 46.50014 , 38.914394, 36.68341 ,\n",
       "        32.05374 , 46.60924 , 32.038918, 31.101528, 40.135166, 36.21652 ,\n",
       "        49.231564, 41.840378, 34.029716, 37.619797, 47.028778, 42.08505 ,\n",
       "        44.42638 , 44.066772], dtype=float32),\n",
       " array([37.834312, 51.383636, 33.54032 , 44.43677 , 41.289024, 63.218426,\n",
       "        45.62054 , 35.84571 , 33.87905 , 33.532528, 39.22643 , 33.507683,\n",
       "        32.525692, 30.117699, 28.770782, 29.68047 , 30.906693, 30.326292,\n",
       "        31.74385 , 31.196075, 41.079582, 38.243202, 40.121544, 43.562588,\n",
       "        38.682507, 40.502785, 37.80014 , 31.755043, 30.9831  , 43.504616,\n",
       "        33.97062 , 36.413265], dtype=float32),\n",
       " array([50.892757, 38.128525, 42.559235, 42.418446, 34.92859 , 31.914494,\n",
       "        42.41566 , 51.33635 , 32.949966, 45.17996 , 36.449978, 28.471674,\n",
       "        30.659796, 33.21829 , 30.027515, 28.591467, 28.014616, 29.915016,\n",
       "        32.56541 , 33.9071  , 31.360851, 33.59628 , 34.025627, 32.968494,\n",
       "        40.587067, 35.727676, 51.16774 , 35.739742, 48.30497 , 47.87288 ,\n",
       "        51.842052, 40.095848], dtype=float32),\n",
       " array([45.784634, 38.230076, 38.259758, 49.10068 , 36.44438 , 37.20441 ,\n",
       "        38.97617 , 60.92645 , 50.99304 , 47.35658 , 37.358788, 54.746094,\n",
       "        35.502136, 38.91702 , 40.097843, 49.11157 , 42.00234 , 37.914696,\n",
       "        34.9473  , 41.7737  , 40.460403, 46.484837, 36.886105, 34.70835 ,\n",
       "        34.937054, 36.652634, 32.534607, 30.068789, 31.68369 , 31.459156,\n",
       "        35.49903 , 30.270008], dtype=float32),\n",
       " array([28.970156, 41.9576  , 49.0975  , 61.67898 , 45.40178 , 44.2853  ,\n",
       "        40.82309 , 67.68623 , 29.759895, 27.598083, 29.080177, 34.535507,\n",
       "        31.91829 , 28.268322, 27.654964, 30.56199 , 31.694584, 34.02927 ,\n",
       "        40.921288, 51.358505, 42.645344, 59.517822, 27.106464, 26.524256,\n",
       "        29.238686, 32.659153, 31.07536 , 36.763153, 53.552673, 47.171738,\n",
       "        51.24071 , 30.70502 ], dtype=float32),\n",
       " array([28.666191, 35.386562, 30.779629, 26.584646, 27.454987, 32.289864,\n",
       "        27.83926 , 33.14059 , 28.190138, 27.775814, 32.980434, 37.429485,\n",
       "        38.43045 , 39.50522 , 60.515152, 62.30489 , 49.42692 , 45.24128 ,\n",
       "        45.86976 , 60.7407  , 35.031185, 41.76471 , 44.88637 , 35.035774,\n",
       "        37.863613, 36.63861 , 46.98584 , 30.027973, 30.350866, 29.565058,\n",
       "        29.344685, 30.576183], dtype=float32)]"
      ]
     },
     "execution_count": 37,
     "metadata": {},
     "output_type": "execute_result"
    }
   ],
   "source": [
    "pred_out"
   ]
  },
  {
   "cell_type": "code",
   "execution_count": 38,
   "metadata": {},
   "outputs": [],
   "source": [
    "pred_out=np.concatenate(pred_out)\n",
    "real_out=np.concatenate(real_out)\n",
    "feature_out=np.concatenate(feature_out)\n",
    "year_out=np.concatenate(year_out)\n",
    "locations_out=np.concatenate(locations_out)\n",
    "index_out=np.concatenate(index_out)"
   ]
  },
  {
   "cell_type": "code",
   "execution_count": 40,
   "metadata": {},
   "outputs": [],
   "source": [
    "path = config.save_path + str(predict_year)+'result_prediction.npz'\n",
    "np.savez(path,\n",
    "            pred_out=pred_out,real_out=real_out,feature_out=feature_out,\n",
    "            year_out=year_out,locations_out=locations_out,weight_out=weight_out,b_out=b_out,index_out=index_out)\n",
    "np.savez(config.save_path+str(predict_year)+'result.npz',\n",
    "                        summary_train_loss=summary_train_loss,summary_eval_loss=summary_eval_loss,\n",
    "                        summary_RMSE=summary_RMSE,summary_ME=summary_ME)"
   ]
  },
  {
   "cell_type": "code",
   "execution_count": 41,
   "metadata": {},
   "outputs": [],
   "source": [
    "npzfile = np.load(config.save_path+str(predict_year)+'result.npz')\n",
    "summary_train_loss=npzfile['summary_train_loss']\n",
    "summary_eval_loss=npzfile['summary_eval_loss']\n",
    "summary_RMSE = npzfile['summary_RMSE']\n",
    "summary_ME = npzfile['summary_ME']"
   ]
  },
  {
   "cell_type": "code",
   "execution_count": 44,
   "metadata": {},
   "outputs": [
    {
     "data": {
      "image/png": "[encoded data removed]",
      "text/plain": [
       "<Figure size 432x288 with 1 Axes>"
      ]
     },
     "metadata": {},
     "output_type": "display_data"
    }
   ],
   "source": [
    "plt.plot(range(len(summary_train_loss)), summary_train_loss)\n",
    "plt.plot(range(len(summary_eval_loss)), summary_eval_loss)\n",
    "plt.xlabel('Training steps')\n",
    "plt.ylabel('L2 loss')\n",
    "plt.title('Loss curve')\n",
    "plt.legend(['Train', 'Validate'])\n",
    "plt.show()"
   ]
  },
  {
   "cell_type": "code",
   "execution_count": 45,
   "metadata": {},
   "outputs": [
    {
     "data": {
      "image/png": "[encoded data removed]",
      "text/plain": [
       "<Figure size 432x288 with 1 Axes>"
      ]
     },
     "metadata": {},
     "output_type": "display_data"
    }
   ],
   "source": [
    "plt.plot(range(len(summary_RMSE)), summary_RMSE)\n",
    "        # plt.plot(range(len(summary_ME)), summary_ME)\n",
    "plt.xlabel('Training steps')\n",
    "plt.ylabel('Error')\n",
    "plt.title('RMSE')\n",
    "        # plt.legend(['RMSE', 'ME'])\n",
    "plt.show()"
   ]
  },
  {
   "cell_type": "code",
   "execution_count": null,
   "metadata": {},
   "outputs": [],
   "source": [
    "plt.plot(range(len(summary_ME)), summary_ME)\n",
    "plt.xlabel('Training steps')\n",
    "plt.ylabel('Error')\n",
    "        plt.title('ME')\n",
    "        # plt.legend(['RMSE', 'ME'])\n",
    "        plt.show()"
   ]
  }
 ],
 "metadata": {
  "kernelspec": {
   "display_name": "Python [conda env:tensorflow-gpu]",
   "language": "python",
   "name": "conda-env-tensorflow-gpu-py"
  },
  "language_info": {
   "codemirror_mode": {
    "name": "ipython",
    "version": 3
   },
   "file_extension": ".py",
   "mimetype": "text/x-python",
   "name": "python",
   "nbconvert_exporter": "python",
   "pygments_lexer": "ipython3",
   "version": "3.6.4"
  }
 },
 "nbformat": 4,
 "nbformat_minor": 2
}
