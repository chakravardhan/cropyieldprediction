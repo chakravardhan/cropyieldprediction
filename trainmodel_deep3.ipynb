{
 "cells": [
  {
   "cell_type": "code",
   "execution_count": 1,
   "metadata": {},
   "outputs": [
    {
     "name": "stderr",
     "output_type": "stream",
     "text": [
      "D:\\Softwares\\Anaconda\\envs\\tensorflow-gpu\\lib\\site-packages\\h5py\\__init__.py:36: FutureWarning: Conversion of the second argument of issubdtype from `float` to `np.floating` is deprecated. In future, it will be treated as `np.float64 == np.dtype(float).type`.\n",
      "  from ._conv import register_converters as _register_converters\n"
     ]
    }
   ],
   "source": [
    "from conv_net_model_deep3 import *\n",
    "import os\n",
    "import logging\n",
    "import matplotlib.pyplot as plt"
   ]
  },
  {
   "cell_type": "code",
   "execution_count": 2,
   "metadata": {},
   "outputs": [],
   "source": [
    "predict_year = 2013\n",
    "config = Config()\n",
    "# RUN_NAME = \"\" # DON'T FORGET TO CHANGE THIS!!!\n",
    "config.save_path = os.path.expanduser('D:\\itd\\out')\n",
    "\n",
    "assert(len(os.listdir(config.save_path)) <= 1)\n",
    "logging.basicConfig(filename=os.path.join(config.save_path, str(predict_year)+'.log'),level=logging.DEBUG)\n",
    "\n",
    "    "
   ]
  },
  {
   "cell_type": "code",
   "execution_count": 3,
   "metadata": {},
   "outputs": [],
   "source": [
    "filename = os.path.expanduser('D:\\itd\\histdata\\data_output_full_histogram_all_full' + '.npz')\n",
    "content = np.load(filename)\n",
    "image_all = content['output_image']\n",
    "yield_all = content['output_yield']\n",
    "year_all = content['output_year']\n",
    "locations_all = content['output_locations']\n",
    "index_all = content['output_index']"
   ]
  },
  {
   "cell_type": "code",
   "execution_count": 4,
   "metadata": {},
   "outputs": [
    {
     "data": {
      "text/plain": [
       "array([2015., 2014., 2013., 2012., 2011., 2010., 2009., 2007., 2006.,\n",
       "       2005., 2004., 2003., 2016., 2015., 2014., 2013., 2012., 2011.,\n",
       "       2010., 2009., 2008., 2007., 2006., 2005., 2004., 2003., 2016.,\n",
       "       2015., 2014., 2013., 2012., 2011., 2010., 2009., 2007., 2006.,\n",
       "       2005., 2004., 2003., 2016., 2008., 2008., 2008., 2008., 2007.,\n",
       "       2007., 2007., 2006., 2006., 2006., 2005., 2005., 2005., 2005.,\n",
       "       2005., 2005., 2005., 2005., 2005., 2004., 2004., 2004., 2004.,\n",
       "       2004., 2004., 2004., 2004., 2004., 2004., 2003., 2003., 2003.,\n",
       "       2003., 2003., 2003., 2003., 2016., 2016., 2016., 2016., 2016.,\n",
       "       2016., 2016., 2016., 2016., 2016., 2015., 2015., 2015., 2015.,\n",
       "       2015., 2015., 2015., 2015., 2014., 2014., 2014., 2014., 2014.,\n",
       "       2014., 2014., 2014., 2013., 2013., 2013., 2013., 2013., 2013.,\n",
       "       2013., 2013., 2012., 2012., 2012., 2012., 2012., 2012., 2012.,\n",
       "       2012., 2011., 2011., 2011., 2011., 2011., 2011., 2011., 2011.,\n",
       "       2010., 2010., 2010., 2010., 2010., 2010., 2010., 2009., 2009.,\n",
       "       2009., 2009., 2009., 2009., 2009., 2009., 2008., 2008., 2008.,\n",
       "       2008., 2008., 2008., 2008., 2008., 2007., 2007., 2007., 2007.,\n",
       "       2007., 2007., 2007., 2007., 2007., 2006., 2006., 2006., 2006.,\n",
       "       2006., 2006., 2006., 2006., 2006., 2005., 2005., 2005., 2005.,\n",
       "       2005., 2005., 2005., 2005., 2005., 2004., 2004., 2004., 2004.,\n",
       "       2004., 2004., 2004., 2004., 2004., 2003., 2003., 2003., 2003.,\n",
       "       2003., 2003., 2003., 2003., 2003., 2016., 2016., 2016., 2016.,\n",
       "       2016., 2016., 2016., 2016., 2016., 2016.])"
      ]
     },
     "execution_count": 4,
     "metadata": {},
     "output_type": "execute_result"
    }
   ],
   "source": [
    "year_all "
   ]
  },
  {
   "cell_type": "code",
   "execution_count": 5,
   "metadata": {},
   "outputs": [],
   "source": [
    "list_delete=[]\n",
    "for i in range(image_all.shape[0]):\n",
    "    if np.sum(image_all[i,:,:,:])<=287:\n",
    "        if year_all[i]<2016:\n",
    "            list_delete.append(i)\n",
    "image_all=np.delete(image_all,list_delete,0)\n",
    "yield_all=np.delete(yield_all,list_delete,0)\n",
    "year_all = np.delete(year_all,list_delete, 0)\n",
    "locations_all = np.delete(locations_all, list_delete, 0)\n",
    "index_all = np.delete(index_all, list_delete, 0)"
   ]
  },
  {
   "cell_type": "code",
   "execution_count": 6,
   "metadata": {},
   "outputs": [
    {
     "data": {
      "text/plain": [
       "(197, 32, 32, 9)"
      ]
     },
     "execution_count": 6,
     "metadata": {},
     "output_type": "execute_result"
    }
   ],
   "source": [
    "image_all.shape"
   ]
  },
  {
   "cell_type": "code",
   "execution_count": 7,
   "metadata": {},
   "outputs": [
    {
     "data": {
      "text/plain": [
       "array([2015., 2014., 2013., 2012., 2011., 2010., 2009., 2007., 2006.,\n",
       "       2005., 2004., 2003., 2016., 2015., 2014., 2013., 2012., 2011.,\n",
       "       2010., 2009., 2008., 2007., 2006., 2005., 2004., 2003., 2016.,\n",
       "       2015., 2014., 2013., 2012., 2011., 2010., 2009., 2007., 2006.,\n",
       "       2005., 2004., 2003., 2016., 2008., 2008., 2008., 2008., 2007.,\n",
       "       2007., 2007., 2006., 2006., 2006., 2005., 2005., 2005., 2005.,\n",
       "       2005., 2005., 2005., 2005., 2005., 2004., 2004., 2004., 2004.,\n",
       "       2004., 2004., 2004., 2004., 2004., 2004., 2003., 2003., 2003.,\n",
       "       2003., 2003., 2003., 2016., 2016., 2016., 2016., 2016., 2016.,\n",
       "       2016., 2016., 2016., 2016., 2015., 2015., 2015., 2015., 2015.,\n",
       "       2015., 2015., 2014., 2014., 2014., 2014., 2014., 2014., 2014.,\n",
       "       2014., 2013., 2013., 2013., 2013., 2013., 2013., 2013., 2013.,\n",
       "       2012., 2012., 2012., 2012., 2012., 2012., 2012., 2012., 2011.,\n",
       "       2011., 2011., 2011., 2011., 2011., 2010., 2010., 2010., 2010.,\n",
       "       2010., 2010., 2010., 2009., 2009., 2009., 2009., 2009., 2009.,\n",
       "       2009., 2008., 2008., 2008., 2008., 2008., 2008., 2008., 2008.,\n",
       "       2007., 2007., 2007., 2007., 2007., 2007., 2007., 2007., 2007.,\n",
       "       2006., 2006., 2006., 2006., 2006., 2006., 2006., 2006., 2006.,\n",
       "       2005., 2005., 2005., 2005., 2005., 2005., 2005., 2005., 2005.,\n",
       "       2004., 2004., 2004., 2004., 2004., 2004., 2004., 2004., 2004.,\n",
       "       2003., 2003., 2003., 2003., 2003., 2003., 2003., 2016., 2016.,\n",
       "       2016., 2016., 2016., 2016., 2016., 2016., 2016., 2016.])"
      ]
     },
     "execution_count": 7,
     "metadata": {},
     "output_type": "execute_result"
    }
   ],
   "source": [
    "year_all"
   ]
  },
  {
   "cell_type": "code",
   "execution_count": 8,
   "metadata": {},
   "outputs": [
    {
     "data": {
      "text/plain": [
       "array([0.        , 0.        , 0.        , 0.        , 0.        ,\n",
       "       0.        , 0.00138985, 0.00069493, 0.        , 0.00347464,\n",
       "       0.00138985, 0.00347464, 0.00833912, 0.01528839, 0.03266157,\n",
       "       0.03822099, 0.05559416, 0.05072967, 0.07783183, 0.10145935,\n",
       "       0.09103544, 0.10771369, 0.10076442, 0.08061154, 0.07505212,\n",
       "       0.04239055, 0.04169562, 0.02015288, 0.01945796, 0.01042391,\n",
       "       0.01042391, 0.00972898])"
      ]
     },
     "execution_count": 8,
     "metadata": {},
     "output_type": "execute_result"
    }
   ],
   "source": [
    "image_all[0,:,1,1]"
   ]
  },
  {
   "cell_type": "code",
   "execution_count": 9,
   "metadata": {},
   "outputs": [
    {
     "name": "stdout",
     "output_type": "stream",
     "text": [
      "train size 142\n",
      "validate size 11\n"
     ]
    }
   ],
   "source": [
    "# split into train and validate\n",
    "index_train = np.nonzero(year_all < predict_year)[0]\n",
    "index_validate = np.nonzero(year_all == predict_year)[0]\n",
    "print ('train size',index_train.shape[0])\n",
    "print ('validate size',index_validate.shape[0])"
   ]
  },
  {
   "cell_type": "code",
   "execution_count": 10,
   "metadata": {},
   "outputs": [],
   "source": [
    " # calc train image mean (for each band), and then detract (broadcast)\n",
    "image_mean=np.mean(image_all[index_train],(0,1,2))\n",
    "image_all = image_all - image_mean\n",
    "\n",
    "image_validate=image_all[index_validate]\n",
    "yield_validate=yield_all[index_validate]"
   ]
  },
  {
   "cell_type": "code",
   "execution_count": 11,
   "metadata": {},
   "outputs": [],
   "source": [
    "model= NeuralModel(config,'net')"
   ]
  },
  {
   "cell_type": "code",
   "execution_count": 12,
   "metadata": {},
   "outputs": [
    {
     "name": "stdout",
     "output_type": "stream",
     "text": [
      "WARNING:tensorflow:From D:\\Softwares\\Anaconda\\envs\\tensorflow-gpu\\lib\\site-packages\\tensorflow\\python\\util\\tf_should_use.py:118: initialize_all_variables (from tensorflow.python.ops.variables) is deprecated and will be removed after 2017-03-02.\n",
      "Instructions for updating:\n",
      "Use `tf.global_variables_initializer` instead.\n"
     ]
    }
   ],
   "source": [
    "gpu_options = tf.GPUOptions(per_process_gpu_memory_fraction=0.22)\n",
    "    # Launch the graph.\n",
    "config1 = tf.ConfigProto()\n",
    "config1.gpu_options.allow_growth = True\n",
    "sess = tf.Session(config = config1)\n",
    "sess = tf.Session(config=tf.ConfigProto(gpu_options=gpu_options))\n",
    "sess.run(tf.initialize_all_variables())\n",
    "summary_train_loss = []\n",
    "summary_eval_loss = []\n",
    "summary_RMSE = []\n",
    "summary_ME = []"
   ]
  },
  {
   "cell_type": "code",
   "execution_count": 13,
   "metadata": {},
   "outputs": [],
   "source": [
    "train_loss=0\n",
    "val_loss=0\n",
    "val_prediction = 0\n",
    "val_deviation = np.zeros([config.B])"
   ]
  },
  {
   "cell_type": "code",
   "execution_count": 14,
   "metadata": {},
   "outputs": [],
   "source": [
    "RMSE_min = 100"
   ]
  },
  {
   "cell_type": "code",
   "execution_count": 15,
   "metadata": {},
   "outputs": [],
   "source": [
    "index_train_batch = np.random.choice(index_train,size=config.B)\n",
    "image_train_batch = image_all[index_train_batch,:,0:config.H,:]\n",
    "yield_train_batch = yield_all[index_train_batch]\n",
    "year_train_batch = year_all[index_train_batch,np.newaxis]\n",
    "index_validate_batch = np.random.choice(index_validate, size=config.B)"
   ]
  },
  {
   "cell_type": "code",
   "execution_count": 16,
   "metadata": {},
   "outputs": [
    {
     "data": {
      "text/plain": [
       "array([ 74, 136,  38,  17, 134, 186, 132, 166, 123, 175, 179,  32,  16,\n",
       "       184,  58, 177,  64,  49, 183, 136, 155, 111,  53,   5, 111, 171,\n",
       "        72, 138, 143, 131, 181, 153], dtype=int64)"
      ]
     },
     "execution_count": 16,
     "metadata": {},
     "output_type": "execute_result"
    }
   ],
   "source": [
    "index_train_batch"
   ]
  },
  {
   "cell_type": "code",
   "execution_count": 17,
   "metadata": {
    "scrolled": true
   },
   "outputs": [
    {
     "data": {
      "text/plain": [
       "(32, 32, 32, 9)"
      ]
     },
     "execution_count": 17,
     "metadata": {},
     "output_type": "execute_result"
    }
   ],
   "source": [
    "image_train_batch.shape"
   ]
  },
  {
   "cell_type": "code",
   "execution_count": 18,
   "metadata": {},
   "outputs": [
    {
     "data": {
      "text/plain": [
       "array([-0.03125   , -0.03125   , -0.03125   , -0.03125   , -0.03125   ,\n",
       "       -0.03125   , -0.03125   , -0.03125   , -0.03125   , -0.03125   ,\n",
       "       -0.03125   , -0.03125   , -0.03125   , -0.03125   , -0.03125   ,\n",
       "       -0.03125   , -0.0241578 ,  0.07513298,  0.00421099,  0.01130319,\n",
       "        0.09640957,  0.06804078,  0.11059397,  0.05385638,  0.05385638,\n",
       "        0.06094858,  0.01130319,  0.05385638, -0.0170656 , -0.00288121,\n",
       "       -0.03125   , -0.0241578 ])"
      ]
     },
     "execution_count": 18,
     "metadata": {},
     "output_type": "execute_result"
    }
   ],
   "source": [
    "image_train_batch[0,:,1,1]"
   ]
  },
  {
   "cell_type": "code",
   "execution_count": 19,
   "metadata": {},
   "outputs": [
    {
     "data": {
      "text/plain": [
       "array([31. , 31. , 36.7, 37.3, 46. , 38. , 44. , 20. , 15.9, 41. , 42. ,\n",
       "       32. , 42.8, 34. , 33. , 41. , 33. , 25.6, 38. , 31. , 35. , 41. ,\n",
       "       32. , 36.1, 41. , 41. , 30. , 27. , 31. , 41. , 33. , 36. ])"
      ]
     },
     "execution_count": 19,
     "metadata": {},
     "output_type": "execute_result"
    }
   ],
   "source": [
    "yield_train_batch"
   ]
  },
  {
   "cell_type": "code",
   "execution_count": 30,
   "metadata": {},
   "outputs": [],
   "source": [
    "_, train_loss = sess.run([model.train_op, model.loss_err], feed_dict={\n",
    "                model.x:image_train_batch,\n",
    "                model.y:yield_train_batch,\n",
    "                model.lr:config.lr,\n",
    "                model.keep_prob: config.drop_out\n",
    "                })"
   ]
  },
  {
   "cell_type": "code",
   "execution_count": 21,
   "metadata": {},
   "outputs": [
    {
     "data": {
      "text/plain": [
       "19616.941"
      ]
     },
     "execution_count": 21,
     "metadata": {},
     "output_type": "execute_result"
    }
   ],
   "source": [
    "train_loss"
   ]
  },
  {
   "cell_type": "code",
   "execution_count": 22,
   "metadata": {},
   "outputs": [],
   "source": [
    "val_loss,fc6,W,B = sess.run([model.loss_err,model.fc6,model.dense_W,model.dense_B], feed_dict={\n",
    "                    model.x: image_all[index_validate_batch, :, 0:config.H, :],\n",
    "                    model.y: yield_all[index_validate_batch],\n",
    "                    model.keep_prob: 1\n",
    "                })"
   ]
  },
  {
   "cell_type": "code",
   "execution_count": 23,
   "metadata": {
    "scrolled": true
   },
   "outputs": [
    {
     "name": "stdout",
     "output_type": "stream",
     "text": [
      "predict year2013step0 19616.941 164471.77 0.001\n"
     ]
    }
   ],
   "source": [
    "print ('predict year'+str(predict_year)+'step'+str(0),train_loss,val_loss,config.lr)"
   ]
  },
  {
   "cell_type": "code",
   "execution_count": 24,
   "metadata": {},
   "outputs": [],
   "source": [
    "pred = []\n",
    "real = []\n",
    "j=0\n",
    "real_temp = yield_validate[j * config.B:(j + 1) * config.B]\n",
    "pred_temp= sess.run(model.logits, feed_dict={\n",
    "                    model.x: image_validate[j * config.B:(j + 1) * config.B,:,0:config.H,:],\n",
    "                    model.y: yield_validate[j * config.B:(j + 1) * config.B],\n",
    "                    model.keep_prob: 1\n",
    "                        })\n",
    "pred.append(pred_temp)\n",
    "real.append(real_temp)"
   ]
  },
  {
   "cell_type": "code",
   "execution_count": 25,
   "metadata": {},
   "outputs": [],
   "source": [
    "RMSE=np.sqrt(np.mean((np.array(pred)-np.array(real))**2))"
   ]
  },
  {
   "cell_type": "code",
   "execution_count": 26,
   "metadata": {
    "scrolled": false
   },
   "outputs": [
    {
     "data": {
      "text/plain": [
       "101.30316541821968"
      ]
     },
     "execution_count": 26,
     "metadata": {},
     "output_type": "execute_result"
    }
   ],
   "source": [
    "RMSE"
   ]
  },
  {
   "cell_type": "code",
   "execution_count": 15,
   "metadata": {},
   "outputs": [],
   "source": [
    "saver=tf.train.Saver()"
   ]
  },
  {
   "cell_type": "code",
   "execution_count": 18,
   "metadata": {},
   "outputs": [
    {
     "name": "stdout",
     "output_type": "stream",
     "text": [
      "predict year2013step0 100.763466 163.92975 1e-05\n",
      "Validation set RMSE 2.805825766209656 ME 0.8001588301225145 RMSE_min 2.683654315535271\n",
      "predict year2013step200 83.58195 164.2929 1e-05\n",
      "Validation set RMSE 2.8499058616606585 ME 1.0979399941184307 RMSE_min 2.683654315535271\n",
      "predict year2013step400 75.52741 85.94996 1e-05\n",
      "Validation set RMSE 2.8409030948966922 ME 0.8381691672585231 RMSE_min 2.683654315535271\n",
      "predict year2013step600 56.63776 157.67982 1e-05\n",
      "Validation set RMSE 2.868084547364545 ME 1.0555524652654478 RMSE_min 2.683654315535271\n",
      "predict year2013step800 80.13116 176.04782 1e-05\n",
      "Validation set RMSE 2.7821915869305904 ME 0.8382603732022376 RMSE_min 2.683654315535271\n",
      "predict year2013step1000 107.05173 134.38527 1e-05\n",
      "Validation set RMSE 2.883369127000504 ME 1.08020546653054 RMSE_min 2.683654315535271\n",
      "predict year2013step1200 86.39363 107.07555 1e-05\n",
      "Validation set RMSE 2.912985700027459 ME 0.9386316472833811 RMSE_min 2.683654315535271\n",
      "predict year2013step1400 90.96188 103.20139 1e-05\n",
      "Validation set RMSE 2.8574091140833713 ME 0.969253609397195 RMSE_min 2.683654315535271\n",
      "predict year2013step1600 69.84387 101.07175 1e-05\n",
      "Validation set RMSE 2.896941954478543 ME 1.0494541515003555 RMSE_min 2.683654315535271\n",
      "predict year2013step1800 141.08807 176.44025 1e-05\n",
      "Validation set RMSE 2.9157948560253706 ME 1.1795960166237576 RMSE_min 2.683654315535271\n",
      "predict year2013step2000 64.772385 139.83517 1e-05\n",
      "Validation set RMSE 2.7929671180062168 ME 0.8998299338600856 RMSE_min 2.683654315535271\n",
      "predict year2013step2200 64.765465 160.26137 1e-05\n",
      "Validation set RMSE 2.854476958105269 ME 0.798734907670455 RMSE_min 2.683654315535271\n",
      "predict year2013step2400 82.361534 170.59866 1e-05\n",
      "Validation set RMSE 2.8318964821802424 ME 0.8738886052911936 RMSE_min 2.683654315535271\n",
      "predict year2013step2600 111.96517 119.02068 1e-05\n",
      "Validation set RMSE 2.8540200101405917 ME 1.065266071666371 RMSE_min 2.683654315535271\n",
      "predict year2013step2800 113.125626 99.1255 1e-05\n",
      "Validation set RMSE 2.8636786834955634 ME 0.9604884754527703 RMSE_min 2.683654315535271\n",
      "predict year2013step3000 104.96259 94.00765 1e-05\n",
      "Validation set RMSE 2.8867714239576356 ME 1.1842724886807532 RMSE_min 2.683654315535271\n",
      "predict year2013step3200 62.62312 138.3457 1e-05\n",
      "Validation set RMSE 2.9504926976711268 ME 1.302125826748935 RMSE_min 2.683654315535271\n",
      "predict year2013step3400 100.07134 99.42821 1e-05\n",
      "Validation set RMSE 2.889409437267395 ME 1.0788540233265274 RMSE_min 2.683654315535271\n",
      "predict year2013step3600 81.89644 189.18015 1.0000000000000002e-06\n",
      "Validation set RMSE 2.960949788581484 ME 1.1696146878329194 RMSE_min 2.683654315535271\n",
      "predict year2013step3800 83.79999 137.15843 1.0000000000000002e-06\n",
      "Validation set RMSE 2.9345195630600225 ME 1.1052631724964492 RMSE_min 2.683654315535271\n",
      "predict year2013step4000 54.771263 177.5542 1.0000000000000002e-06\n",
      "Validation set RMSE 2.9399598887075147 ME 1.1212151960893115 RMSE_min 2.683654315535271\n",
      "predict year2013step4200 130.58794 84.182816 1.0000000000000002e-06\n",
      "Validation set RMSE 2.9502256185460194 ME 1.1566284179687505 RMSE_min 2.683654315535271\n",
      "predict year2013step4400 85.409805 138.77618 1.0000000000000002e-06\n",
      "Validation set RMSE 2.903639012793844 ME 1.0585896578702063 RMSE_min 2.683654315535271\n",
      "predict year2013step4600 65.12163 185.27335 1.0000000000000002e-06\n",
      "Validation set RMSE 2.9370804596280826 ME 1.1752909573641694 RMSE_min 2.683654315535271\n",
      "predict year2013step4800 65.71678 77.00209 1.0000000000000002e-06\n",
      "Validation set RMSE 2.9085222755266886 ME 1.0992685491388499 RMSE_min 2.683654315535271\n"
     ]
    }
   ],
   "source": [
    "for i in range(5000):\n",
    "            if i==3500:\n",
    "                config.lr/=10\n",
    "            if i==20000:\n",
    "                config.lr/=10\n",
    "            index_train_batch = np.random.choice(index_train,size=config.B)\n",
    "            image_train_batch = image_all[index_train_batch,:,0:config.H,:]\n",
    "            yield_train_batch = yield_all[index_train_batch]\n",
    "            year_train_batch = year_all[index_train_batch,np.newaxis]\n",
    "\n",
    "            index_validate_batch = np.random.choice(index_validate, size=config.B)\n",
    "\n",
    "            _, train_loss = sess.run([model.train_op, model.loss_err], feed_dict={\n",
    "                model.x:image_train_batch,\n",
    "                model.y:yield_train_batch,\n",
    "                model.lr:config.lr,\n",
    "                model.keep_prob: config.drop_out\n",
    "                })\n",
    "            if i%200 == 0:\n",
    "                val_loss,fc6,W,B = sess.run([model.loss_err,model.fc6,model.dense_W,model.dense_B], feed_dict={\n",
    "                    model.x: image_all[index_validate_batch, :, 0:config.H, :],\n",
    "                    model.y: yield_all[index_validate_batch],\n",
    "                    model.keep_prob: 1\n",
    "                })\n",
    "                print ('predict year'+str(predict_year)+'step'+str(i),train_loss,val_loss,config.lr)\n",
    "                logging.info('predict year %d step %d %f %f %f',predict_year,i,train_loss,val_loss,config.lr)\n",
    "            if i%200 == 0:\n",
    "                # do validation\n",
    "                pred = []\n",
    "                real = []\n",
    "                size = image_validate.shape[0]//config.B\n",
    "                if(size==0):\n",
    "                    size=1\n",
    "                for j in range(size):\n",
    "                    real_temp = yield_validate[j * config.B:(j + 1) * config.B]\n",
    "                    pred_temp= sess.run(model.logits, feed_dict={\n",
    "                        model.x: image_validate[j * config.B:(j + 1) * config.B,:,0:config.H,:],\n",
    "                        model.y: yield_validate[j * config.B:(j + 1) * config.B],\n",
    "                        model.keep_prob: 1\n",
    "                        })\n",
    "                    pred.append(pred_temp)\n",
    "                    real.append(real_temp)\n",
    "                pred=np.concatenate([pred])\n",
    "                real=np.concatenate([real])\n",
    "                RMSE=np.sqrt(np.mean((pred-real)**2))\n",
    "                ME=np.mean(pred-real)\n",
    "\n",
    "                if RMSE<RMSE_min:\n",
    "                    RMSE_min=RMSE\n",
    "                    save_path = saver.save(sess, config.save_path + str(predict_year)+'CNN_model.ckpt')\n",
    "                    print('save in file: %s' % save_path)\n",
    "                    np.savez(config.save_path+str(predict_year)+'result.npz',\n",
    "                        summary_train_loss=summary_train_loss,summary_eval_loss=summary_eval_loss,\n",
    "                        summary_RMSE=summary_RMSE,summary_ME=summary_RMSE)\n",
    "\n",
    "                print ('Validation set','RMSE',RMSE,'ME',ME,'RMSE_min',RMSE_min)\n",
    "                logging.info('Validation set RMSE %f ME %f RMSE_min %f',RMSE,ME,RMSE_min)\n",
    "            \n",
    "                summary_train_loss.append(train_loss)\n",
    "                summary_eval_loss.append(val_loss)\n",
    "                summary_RMSE.append(RMSE)\n",
    "                summary_ME.append(ME)"
   ]
  },
  {
   "cell_type": "code",
   "execution_count": 19,
   "metadata": {},
   "outputs": [
    {
     "data": {
      "text/plain": [
       "2.683654315535271"
      ]
     },
     "execution_count": 19,
     "metadata": {},
     "output_type": "execute_result"
    }
   ],
   "source": [
    "RMSE_min"
   ]
  },
  {
   "cell_type": "code",
   "execution_count": 20,
   "metadata": {},
   "outputs": [
    {
     "data": {
      "text/plain": [
       "array([[41.370277, 38.24044 , 40.959614, 41.612934, 42.45163 , 36.087296,\n",
       "        44.24543 , 47.097122, 38.024837, 38.969944, 44.73243 ]],\n",
       "      dtype=float32)"
      ]
     },
     "execution_count": 20,
     "metadata": {},
     "output_type": "execute_result"
    }
   ],
   "source": [
    "pred"
   ]
  },
  {
   "cell_type": "code",
   "execution_count": 21,
   "metadata": {
    "scrolled": false
   },
   "outputs": [
    {
     "data": {
      "text/plain": [
       "array([[39.8, 41.4, 39.3, 35.1, 42.4, 38.3, 41.9, 47.9, 38.7, 36.2, 40.7]])"
      ]
     },
     "execution_count": 21,
     "metadata": {},
     "output_type": "execute_result"
    }
   ],
   "source": [
    "real"
   ]
  },
  {
   "cell_type": "code",
   "execution_count": 21,
   "metadata": {},
   "outputs": [],
   "source": [
    "save_path = saver.save(sess, config.save_path + str(predict_year)+'CNN_model.ckpt')"
   ]
  },
  {
   "cell_type": "code",
   "execution_count": 22,
   "metadata": {},
   "outputs": [],
   "source": [
    "pred_out = []\n",
    "real_out = []\n",
    "feature_out = []\n",
    "year_out = []\n",
    "locations_out =[]\n",
    "index_out = []"
   ]
  },
  {
   "cell_type": "code",
   "execution_count": 23,
   "metadata": {},
   "outputs": [],
   "source": [
    "for i in range(image_all.shape[0] // config.B):\n",
    "            feature,pred = sess.run(\n",
    "                [model.fc6,model.logits], feed_dict={\n",
    "                model.x: image_all[i * config.B:(i + 1) * config.B,:,0:config.H,:],\n",
    "                model.y: yield_all[i * config.B:(i + 1) * config.B],\n",
    "                model.keep_prob:1\n",
    "            })\n",
    "            real = yield_all[i * config.B:(i + 1) * config.B]\n",
    "\n",
    "            pred_out.append(pred)\n",
    "            real_out.append(real)\n",
    "            feature_out.append(feature)\n",
    "            year_out.append(year_all[i * config.B:(i + 1) * config.B])\n",
    "            locations_out.append(locations_all[i * config.B:(i + 1) * config.B])\n",
    "            index_out.append(index_all[i * config.B:(i + 1) * config.B])\n",
    "            \n",
    "            weight_out, b_out = sess.run(\n",
    "            [model.dense_W, model.dense_B], feed_dict={\n",
    "                model.x: image_all[0 * config.B:(0 + 1) * config.B, :, 0:config.H, :],\n",
    "                model.y: yield_all[0 * config.B:(0 + 1) * config.B],\n",
    "                model.keep_prob: 1\n",
    "            })"
   ]
  },
  {
   "cell_type": "code",
   "execution_count": 24,
   "metadata": {},
   "outputs": [
    {
     "data": {
      "text/plain": [
       "[array([38.416817, 44.04178 , 40.112965, 40.190956, 39.223873, 37.58135 ,\n",
       "        46.20689 , 19.68512 , 32.56505 , 28.69617 , 42.522945, 33.029797,\n",
       "        19.947264, 38.896854, 43.189774, 40.064617, 41.247993, 36.68723 ,\n",
       "        27.902065, 42.30913 , 27.94298 , 23.15949 , 31.121845, 28.108515,\n",
       "        42.555084, 41.058407, 19.510141, 36.585564, 42.826965, 41.329205,\n",
       "        42.582253, 36.71404 ], dtype=float32),\n",
       " array([35.23529 , 48.429424, 34.246162, 40.03376 , 36.623886, 48.255196,\n",
       "        40.901134, 28.414864, 32.115074, 39.77547 , 44.145714, 46.016056,\n",
       "        29.244528, 29.71772 , 30.369688, 30.746843, 29.318802, 27.902588,\n",
       "        36.879063, 34.19135 , 32.232105, 36.263798, 26.074245, 36.2111  ,\n",
       "        37.879353, 31.267405, 31.134897, 31.531685, 36.750355, 46.03046 ,\n",
       "        38.795902, 39.069843], dtype=float32),\n",
       " array([41.623585, 40.260117, 34.03728 , 39.892963, 35.70279 , 27.842989,\n",
       "        35.644276, 36.183666, 26.787432, 36.18605 , 33.4963  , 19.633886,\n",
       "        25.298563, 22.434715, 24.697683, 21.4677  , 21.020025, 22.345678,\n",
       "        24.952194, 26.010618, 26.334183, 33.709198, 34.982063, 36.405914,\n",
       "        40.395508, 36.010612, 44.008224, 29.438957, 40.98368 , 39.718647,\n",
       "        46.03737 , 44.860424], dtype=float32),\n",
       " array([48.081223, 37.097958, 39.43242 , 44.699635, 38.689663, 40.637585,\n",
       "        34.7893  , 40.46061 , 45.138027, 34.951626, 36.997757, 42.626514,\n",
       "        36.894333, 38.652397, 35.74008 , 36.987946, 37.14204 , 37.789215,\n",
       "        38.918724, 40.89213 , 34.6468  , 39.763577, 41.236168, 36.714428,\n",
       "        37.976337, 34.538105, 17.916054, 13.123247, 14.274284, 25.284695,\n",
       "        39.867973, 16.698776], dtype=float32),\n",
       " array([28.048918, 35.750183, 38.78742 , 40.528484, 40.6741  , 39.833096,\n",
       "        39.435005, 46.674942, 32.966614, 30.388252, 28.316914, 30.64926 ,\n",
       "        42.56989 , 16.703232, 16.766647, 22.762833, 31.869717, 40.332664,\n",
       "        34.76703 , 39.891216, 43.099407, 44.22347 , 19.49115 , 24.973097,\n",
       "        23.650305, 33.584957, 33.561085, 34.73003 , 40.639828, 34.077343,\n",
       "        42.136093, 27.897448], dtype=float32),\n",
       " array([33.63155 , 32.897755, 34.64352 , 29.297598, 23.257671, 34.45316 ,\n",
       "        21.943602, 41.771923, 19.628344, 25.192366, 29.920414, 45.427982,\n",
       "        45.02805 , 40.049355, 41.981655, 40.599174, 49.89092 , 42.55803 ,\n",
       "        45.62245 , 46.988503, 32.26402 , 30.332287, 37.366222, 37.85399 ,\n",
       "        34.541054, 33.97762 , 42.62525 , 21.710835, 23.0807  , 23.257711,\n",
       "        23.836845, 20.312727], dtype=float32)]"
      ]
     },
     "execution_count": 24,
     "metadata": {},
     "output_type": "execute_result"
    }
   ],
   "source": [
    "pred_out"
   ]
  },
  {
   "cell_type": "code",
   "execution_count": 25,
   "metadata": {},
   "outputs": [],
   "source": [
    "pred_out=np.concatenate(pred_out)\n",
    "real_out=np.concatenate(real_out)\n",
    "feature_out=np.concatenate(feature_out)\n",
    "year_out=np.concatenate(year_out)\n",
    "locations_out=np.concatenate(locations_out)\n",
    "index_out=np.concatenate(index_out)"
   ]
  },
  {
   "cell_type": "code",
   "execution_count": 26,
   "metadata": {},
   "outputs": [],
   "source": [
    "path = config.save_path + str(predict_year)+'result_prediction.npz'\n",
    "np.savez(path,\n",
    "            pred_out=pred_out,real_out=real_out,feature_out=feature_out,\n",
    "            year_out=year_out,locations_out=locations_out,weight_out=weight_out,b_out=b_out,index_out=index_out)\n",
    "np.savez(config.save_path+str(predict_year)+'result.npz',\n",
    "                        summary_train_loss=summary_train_loss,summary_eval_loss=summary_eval_loss,\n",
    "                        summary_RMSE=summary_RMSE,summary_ME=summary_ME)"
   ]
  },
  {
   "cell_type": "code",
   "execution_count": 27,
   "metadata": {},
   "outputs": [],
   "source": [
    "npzfile = np.load(config.save_path+str(predict_year)+'result.npz')\n",
    "summary_train_loss=npzfile['summary_train_loss']\n",
    "summary_eval_loss=npzfile['summary_eval_loss']\n",
    "summary_RMSE = npzfile['summary_RMSE']\n",
    "summary_ME = npzfile['summary_ME']"
   ]
  },
  {
   "cell_type": "code",
   "execution_count": 28,
   "metadata": {},
   "outputs": [
    {
     "data": {
      "image/png": "[encoded data removed]",
      "text/plain": [
       "<Figure size 432x288 with 1 Axes>"
      ]
     },
     "metadata": {},
     "output_type": "display_data"
    }
   ],
   "source": [
    "plt.plot(range(len(summary_train_loss)), summary_train_loss)\n",
    "plt.plot(range(len(summary_eval_loss)), summary_eval_loss)\n",
    "plt.xlabel('Training steps')\n",
    "plt.ylabel('L2 loss')\n",
    "plt.title('Loss curve')\n",
    "plt.legend(['Train', 'Validate'])\n",
    "plt.show()"
   ]
  },
  {
   "cell_type": "code",
   "execution_count": 30,
   "metadata": {},
   "outputs": [
    {
     "data": {
      "image/png": "[encoded data removed]",
      "text/plain": [
       "<Figure size 432x288 with 1 Axes>"
      ]
     },
     "metadata": {},
     "output_type": "display_data"
    }
   ],
   "source": [
    "plt.plot(range(len(summary_RMSE)), summary_RMSE)\n",
    "        # plt.plot(range(len(summary_ME)), summary_ME)\n",
    "plt.xlabel('Training steps')\n",
    "plt.ylabel('Error')\n",
    "plt.title('RMSE')\n",
    "        # plt.legend(['RMSE', 'ME'])\n",
    "plt.show()"
   ]
  },
  {
   "cell_type": "code",
   "execution_count": null,
   "metadata": {},
   "outputs": [],
   "source": [
    "plt.plot(range(len(summary_ME)), summary_ME)\n",
    "plt.xlabel('Training steps')\n",
    "plt.ylabel('Error')\n",
    "plt.title('ME')\n",
    "        # plt.legend(['RMSE', 'ME'])\n",
    "plt.show()"
   ]
  }
 ],
 "metadata": {
  "kernelspec": {
   "display_name": "Python [conda env:tensorflow-gpu]",
   "language": "python",
   "name": "conda-env-tensorflow-gpu-py"
  },
  "language_info": {
   "codemirror_mode": {
    "name": "ipython",
    "version": 3
   },
   "file_extension": ".py",
   "mimetype": "text/x-python",
   "name": "python",
   "nbconvert_exporter": "python",
   "pygments_lexer": "ipython3",
   "version": "3.6.4"
  }
 },
 "nbformat": 4,
 "nbformat_minor": 2
}
