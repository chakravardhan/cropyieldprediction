{
 "cells": [
  {
   "cell_type": "code",
   "execution_count": 2,
   "metadata": {},
   "outputs": [
    {
     "name": "stderr",
     "output_type": "stream",
     "text": [
      "D:\\Softwares\\Anaconda\\envs\\tensorflow-gpu\\lib\\site-packages\\h5py\\__init__.py:36: FutureWarning: Conversion of the second argument of issubdtype from `float` to `np.floating` is deprecated. In future, it will be treated as `np.float64 == np.dtype(float).type`.\n",
      "  from ._conv import register_converters as _register_converters\n"
     ]
    }
   ],
   "source": [
    "from conv_net_model_deep2 import *\n",
    "import os\n",
    "import logging\n",
    "import matplotlib.pyplot as plt"
   ]
  },
  {
   "cell_type": "code",
   "execution_count": 3,
   "metadata": {},
   "outputs": [],
   "source": [
    "predict_year = 2013\n",
    "config = Config()\n",
    "# RUN_NAME = \"\" # DON'T FORGET TO CHANGE THIS!!!\n",
    "config.save_path = os.path.expanduser('D:\\itd\\out')\n",
    "\n",
    "assert(len(os.listdir(config.save_path)) <= 1)\n",
    "logging.basicConfig(filename=os.path.join(config.save_path, str(predict_year)+'.log'),level=logging.DEBUG)\n",
    "\n",
    "    "
   ]
  },
  {
   "cell_type": "code",
   "execution_count": 4,
   "metadata": {},
   "outputs": [],
   "source": [
    "filename = os.path.expanduser('D:\\itd\\histdata\\data_output_full_histogram_all_full' + '.npz')\n",
    "content = np.load(filename)\n",
    "image_all = content['output_image']\n",
    "yield_all = content['output_yield']\n",
    "year_all = content['output_year']\n",
    "locations_all = content['output_locations']\n",
    "index_all = content['output_index']"
   ]
  },
  {
   "cell_type": "code",
   "execution_count": 5,
   "metadata": {},
   "outputs": [
    {
     "data": {
      "text/plain": [
       "array([2015., 2014., 2013., 2012., 2011., 2010., 2009., 2007., 2006.,\n",
       "       2005., 2004., 2003., 2016., 2015., 2014., 2013., 2012., 2011.,\n",
       "       2010., 2009., 2008., 2007., 2006., 2005., 2004., 2003., 2016.,\n",
       "       2015., 2014., 2013., 2012., 2011., 2010., 2009., 2007., 2006.,\n",
       "       2005., 2004., 2003., 2016., 2008., 2008., 2008., 2008., 2007.,\n",
       "       2007., 2007., 2006., 2006., 2006., 2005., 2005., 2005., 2005.,\n",
       "       2005., 2005., 2005., 2005., 2005., 2004., 2004., 2004., 2004.,\n",
       "       2004., 2004., 2004., 2004., 2004., 2004., 2003., 2003., 2003.,\n",
       "       2003., 2003., 2003., 2003., 2016., 2016., 2016., 2016., 2016.,\n",
       "       2016., 2016., 2016., 2016., 2016., 2015., 2015., 2015., 2015.,\n",
       "       2015., 2015., 2015., 2015., 2014., 2014., 2014., 2014., 2014.,\n",
       "       2014., 2014., 2014., 2013., 2013., 2013., 2013., 2013., 2013.,\n",
       "       2013., 2013., 2012., 2012., 2012., 2012., 2012., 2012., 2012.,\n",
       "       2012., 2011., 2011., 2011., 2011., 2011., 2011., 2011., 2011.,\n",
       "       2010., 2010., 2010., 2010., 2010., 2010., 2010., 2009., 2009.,\n",
       "       2009., 2009., 2009., 2009., 2009., 2009., 2008., 2008., 2008.,\n",
       "       2008., 2008., 2008., 2008., 2008., 2007., 2007., 2007., 2007.,\n",
       "       2007., 2007., 2007., 2007., 2007., 2006., 2006., 2006., 2006.,\n",
       "       2006., 2006., 2006., 2006., 2006., 2005., 2005., 2005., 2005.,\n",
       "       2005., 2005., 2005., 2005., 2005., 2004., 2004., 2004., 2004.,\n",
       "       2004., 2004., 2004., 2004., 2004., 2003., 2003., 2003., 2003.,\n",
       "       2003., 2003., 2003., 2003., 2003., 2016., 2016., 2016., 2016.,\n",
       "       2016., 2016., 2016., 2016., 2016., 2016.])"
      ]
     },
     "execution_count": 5,
     "metadata": {},
     "output_type": "execute_result"
    }
   ],
   "source": [
    "year_all "
   ]
  },
  {
   "cell_type": "code",
   "execution_count": 6,
   "metadata": {},
   "outputs": [],
   "source": [
    "list_delete=[]\n",
    "for i in range(image_all.shape[0]):\n",
    "    if np.sum(image_all[i,:,:,:])<=287:\n",
    "        if year_all[i]<2016:\n",
    "            list_delete.append(i)\n",
    "image_all=np.delete(image_all,list_delete,0)\n",
    "yield_all=np.delete(yield_all,list_delete,0)\n",
    "year_all = np.delete(year_all,list_delete, 0)\n",
    "locations_all = np.delete(locations_all, list_delete, 0)\n",
    "index_all = np.delete(index_all, list_delete, 0)"
   ]
  },
  {
   "cell_type": "code",
   "execution_count": 7,
   "metadata": {},
   "outputs": [
    {
     "data": {
      "text/plain": [
       "(197, 32, 32, 9)"
      ]
     },
     "execution_count": 7,
     "metadata": {},
     "output_type": "execute_result"
    }
   ],
   "source": [
    "image_all.shape"
   ]
  },
  {
   "cell_type": "code",
   "execution_count": 8,
   "metadata": {},
   "outputs": [
    {
     "data": {
      "text/plain": [
       "array([2015., 2014., 2013., 2012., 2011., 2010., 2009., 2007., 2006.,\n",
       "       2005., 2004., 2003., 2016., 2015., 2014., 2013., 2012., 2011.,\n",
       "       2010., 2009., 2008., 2007., 2006., 2005., 2004., 2003., 2016.,\n",
       "       2015., 2014., 2013., 2012., 2011., 2010., 2009., 2007., 2006.,\n",
       "       2005., 2004., 2003., 2016., 2008., 2008., 2008., 2008., 2007.,\n",
       "       2007., 2007., 2006., 2006., 2006., 2005., 2005., 2005., 2005.,\n",
       "       2005., 2005., 2005., 2005., 2005., 2004., 2004., 2004., 2004.,\n",
       "       2004., 2004., 2004., 2004., 2004., 2004., 2003., 2003., 2003.,\n",
       "       2003., 2003., 2003., 2016., 2016., 2016., 2016., 2016., 2016.,\n",
       "       2016., 2016., 2016., 2016., 2015., 2015., 2015., 2015., 2015.,\n",
       "       2015., 2015., 2014., 2014., 2014., 2014., 2014., 2014., 2014.,\n",
       "       2014., 2013., 2013., 2013., 2013., 2013., 2013., 2013., 2013.,\n",
       "       2012., 2012., 2012., 2012., 2012., 2012., 2012., 2012., 2011.,\n",
       "       2011., 2011., 2011., 2011., 2011., 2010., 2010., 2010., 2010.,\n",
       "       2010., 2010., 2010., 2009., 2009., 2009., 2009., 2009., 2009.,\n",
       "       2009., 2008., 2008., 2008., 2008., 2008., 2008., 2008., 2008.,\n",
       "       2007., 2007., 2007., 2007., 2007., 2007., 2007., 2007., 2007.,\n",
       "       2006., 2006., 2006., 2006., 2006., 2006., 2006., 2006., 2006.,\n",
       "       2005., 2005., 2005., 2005., 2005., 2005., 2005., 2005., 2005.,\n",
       "       2004., 2004., 2004., 2004., 2004., 2004., 2004., 2004., 2004.,\n",
       "       2003., 2003., 2003., 2003., 2003., 2003., 2003., 2016., 2016.,\n",
       "       2016., 2016., 2016., 2016., 2016., 2016., 2016., 2016.])"
      ]
     },
     "execution_count": 8,
     "metadata": {},
     "output_type": "execute_result"
    }
   ],
   "source": [
    "year_all"
   ]
  },
  {
   "cell_type": "code",
   "execution_count": 9,
   "metadata": {},
   "outputs": [
    {
     "data": {
      "text/plain": [
       "array([0.        , 0.        , 0.        , 0.        , 0.        ,\n",
       "       0.        , 0.00138985, 0.00069493, 0.        , 0.00347464,\n",
       "       0.00138985, 0.00347464, 0.00833912, 0.01528839, 0.03266157,\n",
       "       0.03822099, 0.05559416, 0.05072967, 0.07783183, 0.10145935,\n",
       "       0.09103544, 0.10771369, 0.10076442, 0.08061154, 0.07505212,\n",
       "       0.04239055, 0.04169562, 0.02015288, 0.01945796, 0.01042391,\n",
       "       0.01042391, 0.00972898])"
      ]
     },
     "execution_count": 9,
     "metadata": {},
     "output_type": "execute_result"
    }
   ],
   "source": [
    "image_all[0,:,1,1]"
   ]
  },
  {
   "cell_type": "code",
   "execution_count": 10,
   "metadata": {},
   "outputs": [
    {
     "name": "stdout",
     "output_type": "stream",
     "text": [
      "train size 142\n",
      "validate size 11\n"
     ]
    }
   ],
   "source": [
    "# split into train and validate\n",
    "index_train = np.nonzero(year_all < predict_year)[0]\n",
    "index_validate = np.nonzero(year_all == predict_year)[0]\n",
    "print ('train size',index_train.shape[0])\n",
    "print ('validate size',index_validate.shape[0])"
   ]
  },
  {
   "cell_type": "code",
   "execution_count": 11,
   "metadata": {},
   "outputs": [],
   "source": [
    " # calc train image mean (for each band), and then detract (broadcast)\n",
    "image_mean=np.mean(image_all[index_train],(0,1,2))\n",
    "image_all = image_all - image_mean\n",
    "\n",
    "image_validate=image_all[index_validate]\n",
    "yield_validate=yield_all[index_validate]"
   ]
  },
  {
   "cell_type": "code",
   "execution_count": 12,
   "metadata": {},
   "outputs": [],
   "source": [
    "model= NeuralModel(config,'net')"
   ]
  },
  {
   "cell_type": "code",
   "execution_count": 13,
   "metadata": {},
   "outputs": [
    {
     "name": "stdout",
     "output_type": "stream",
     "text": [
      "WARNING:tensorflow:From D:\\Softwares\\Anaconda\\envs\\tensorflow-gpu\\lib\\site-packages\\tensorflow\\python\\util\\tf_should_use.py:118: initialize_all_variables (from tensorflow.python.ops.variables) is deprecated and will be removed after 2017-03-02.\n",
      "Instructions for updating:\n",
      "Use `tf.global_variables_initializer` instead.\n"
     ]
    }
   ],
   "source": [
    "gpu_options = tf.GPUOptions(per_process_gpu_memory_fraction=0.22)\n",
    "    # Launch the graph.\n",
    "config1 = tf.ConfigProto()\n",
    "config1.gpu_options.allow_growth = True\n",
    "sess = tf.Session(config = config1)\n",
    "sess = tf.Session(config=tf.ConfigProto(gpu_options=gpu_options))\n",
    "sess.run(tf.initialize_all_variables())\n",
    "summary_train_loss = []\n",
    "summary_eval_loss = []\n",
    "summary_RMSE = []\n",
    "summary_ME = []"
   ]
  },
  {
   "cell_type": "code",
   "execution_count": 14,
   "metadata": {},
   "outputs": [],
   "source": [
    "train_loss=0\n",
    "val_loss=0\n",
    "val_prediction = 0\n",
    "val_deviation = np.zeros([config.B])"
   ]
  },
  {
   "cell_type": "code",
   "execution_count": 15,
   "metadata": {},
   "outputs": [],
   "source": [
    "RMSE_min = 100"
   ]
  },
  {
   "cell_type": "code",
   "execution_count": 15,
   "metadata": {},
   "outputs": [],
   "source": [
    "index_train_batch = np.random.choice(index_train,size=config.B)\n",
    "image_train_batch = image_all[index_train_batch,:,0:config.H,:]\n",
    "yield_train_batch = yield_all[index_train_batch]\n",
    "year_train_batch = year_all[index_train_batch,np.newaxis]\n",
    "index_validate_batch = np.random.choice(index_validate, size=config.B)"
   ]
  },
  {
   "cell_type": "code",
   "execution_count": 16,
   "metadata": {},
   "outputs": [
    {
     "data": {
      "text/plain": [
       "array([ 74, 136,  38,  17, 134, 186, 132, 166, 123, 175, 179,  32,  16,\n",
       "       184,  58, 177,  64,  49, 183, 136, 155, 111,  53,   5, 111, 171,\n",
       "        72, 138, 143, 131, 181, 153], dtype=int64)"
      ]
     },
     "execution_count": 16,
     "metadata": {},
     "output_type": "execute_result"
    }
   ],
   "source": [
    "index_train_batch"
   ]
  },
  {
   "cell_type": "code",
   "execution_count": 17,
   "metadata": {
    "scrolled": true
   },
   "outputs": [
    {
     "data": {
      "text/plain": [
       "(32, 32, 32, 9)"
      ]
     },
     "execution_count": 17,
     "metadata": {},
     "output_type": "execute_result"
    }
   ],
   "source": [
    "image_train_batch.shape"
   ]
  },
  {
   "cell_type": "code",
   "execution_count": 18,
   "metadata": {},
   "outputs": [
    {
     "data": {
      "text/plain": [
       "array([-0.03125   , -0.03125   , -0.03125   , -0.03125   , -0.03125   ,\n",
       "       -0.03125   , -0.03125   , -0.03125   , -0.03125   , -0.03125   ,\n",
       "       -0.03125   , -0.03125   , -0.03125   , -0.03125   , -0.03125   ,\n",
       "       -0.03125   , -0.0241578 ,  0.07513298,  0.00421099,  0.01130319,\n",
       "        0.09640957,  0.06804078,  0.11059397,  0.05385638,  0.05385638,\n",
       "        0.06094858,  0.01130319,  0.05385638, -0.0170656 , -0.00288121,\n",
       "       -0.03125   , -0.0241578 ])"
      ]
     },
     "execution_count": 18,
     "metadata": {},
     "output_type": "execute_result"
    }
   ],
   "source": [
    "image_train_batch[0,:,1,1]"
   ]
  },
  {
   "cell_type": "code",
   "execution_count": 19,
   "metadata": {},
   "outputs": [
    {
     "data": {
      "text/plain": [
       "array([31. , 31. , 36.7, 37.3, 46. , 38. , 44. , 20. , 15.9, 41. , 42. ,\n",
       "       32. , 42.8, 34. , 33. , 41. , 33. , 25.6, 38. , 31. , 35. , 41. ,\n",
       "       32. , 36.1, 41. , 41. , 30. , 27. , 31. , 41. , 33. , 36. ])"
      ]
     },
     "execution_count": 19,
     "metadata": {},
     "output_type": "execute_result"
    }
   ],
   "source": [
    "yield_train_batch"
   ]
  },
  {
   "cell_type": "code",
   "execution_count": 30,
   "metadata": {},
   "outputs": [],
   "source": [
    "_, train_loss = sess.run([model.train_op, model.loss_err], feed_dict={\n",
    "                model.x:image_train_batch,\n",
    "                model.y:yield_train_batch,\n",
    "                model.lr:config.lr,\n",
    "                model.keep_prob: config.drop_out\n",
    "                })"
   ]
  },
  {
   "cell_type": "code",
   "execution_count": 21,
   "metadata": {},
   "outputs": [
    {
     "data": {
      "text/plain": [
       "19616.941"
      ]
     },
     "execution_count": 21,
     "metadata": {},
     "output_type": "execute_result"
    }
   ],
   "source": [
    "train_loss"
   ]
  },
  {
   "cell_type": "code",
   "execution_count": 22,
   "metadata": {},
   "outputs": [],
   "source": [
    "val_loss,fc6,W,B = sess.run([model.loss_err,model.fc6,model.dense_W,model.dense_B], feed_dict={\n",
    "                    model.x: image_all[index_validate_batch, :, 0:config.H, :],\n",
    "                    model.y: yield_all[index_validate_batch],\n",
    "                    model.keep_prob: 1\n",
    "                })"
   ]
  },
  {
   "cell_type": "code",
   "execution_count": 23,
   "metadata": {
    "scrolled": true
   },
   "outputs": [
    {
     "name": "stdout",
     "output_type": "stream",
     "text": [
      "predict year2013step0 19616.941 164471.77 0.001\n"
     ]
    }
   ],
   "source": [
    "print ('predict year'+str(predict_year)+'step'+str(0),train_loss,val_loss,config.lr)"
   ]
  },
  {
   "cell_type": "code",
   "execution_count": 24,
   "metadata": {},
   "outputs": [],
   "source": [
    "pred = []\n",
    "real = []\n",
    "j=0\n",
    "real_temp = yield_validate[j * config.B:(j + 1) * config.B]\n",
    "pred_temp= sess.run(model.logits, feed_dict={\n",
    "                    model.x: image_validate[j * config.B:(j + 1) * config.B,:,0:config.H,:],\n",
    "                    model.y: yield_validate[j * config.B:(j + 1) * config.B],\n",
    "                    model.keep_prob: 1\n",
    "                        })\n",
    "pred.append(pred_temp)\n",
    "real.append(real_temp)"
   ]
  },
  {
   "cell_type": "code",
   "execution_count": 25,
   "metadata": {},
   "outputs": [],
   "source": [
    "RMSE=np.sqrt(np.mean((np.array(pred)-np.array(real))**2))"
   ]
  },
  {
   "cell_type": "code",
   "execution_count": 26,
   "metadata": {
    "scrolled": false
   },
   "outputs": [
    {
     "data": {
      "text/plain": [
       "101.30316541821968"
      ]
     },
     "execution_count": 26,
     "metadata": {},
     "output_type": "execute_result"
    }
   ],
   "source": [
    "RMSE"
   ]
  },
  {
   "cell_type": "code",
   "execution_count": 16,
   "metadata": {},
   "outputs": [],
   "source": [
    "saver=tf.train.Saver()"
   ]
  },
  {
   "cell_type": "code",
   "execution_count": 17,
   "metadata": {},
   "outputs": [
    {
     "name": "stdout",
     "output_type": "stream",
     "text": [
      "predict year2013step0 17339.385 286001.88 0.001\n",
      "Validation set RMSE 133.89126624019792 ME 132.77780817205254 RMSE_min 100\n",
      "predict year2013step200 663.9509 710.81305 0.001\n",
      "save in file: D:\\itd\\out2013CNN_model.ckpt\n",
      "Validation set RMSE 6.2750656453848075 ME 1.6140470331365415 RMSE_min 6.2750656453848075\n",
      "predict year2013step400 966.5428 1509.1221 0.001\n",
      "Validation set RMSE 9.96379348202992 ME 4.9454110579057176 RMSE_min 6.2750656453848075\n"
     ]
    },
    {
     "ename": "KeyboardInterrupt",
     "evalue": "",
     "output_type": "error",
     "traceback": [
      "\u001b[1;31m---------------------------------------------------------------------------\u001b[0m",
      "\u001b[1;31mKeyboardInterrupt\u001b[0m                         Traceback (most recent call last)",
      "\u001b[1;32m<ipython-input-17-53fb07c5171b>\u001b[0m in \u001b[0;36m<module>\u001b[1;34m()\u001b[0m\n\u001b[0;32m     15\u001b[0m                 \u001b[0mmodel\u001b[0m\u001b[1;33m.\u001b[0m\u001b[0my\u001b[0m\u001b[1;33m:\u001b[0m\u001b[0myield_train_batch\u001b[0m\u001b[1;33m,\u001b[0m\u001b[1;33m\u001b[0m\u001b[0m\n\u001b[0;32m     16\u001b[0m                 \u001b[0mmodel\u001b[0m\u001b[1;33m.\u001b[0m\u001b[0mlr\u001b[0m\u001b[1;33m:\u001b[0m\u001b[0mconfig\u001b[0m\u001b[1;33m.\u001b[0m\u001b[0mlr\u001b[0m\u001b[1;33m,\u001b[0m\u001b[1;33m\u001b[0m\u001b[0m\n\u001b[1;32m---> 17\u001b[1;33m                 \u001b[0mmodel\u001b[0m\u001b[1;33m.\u001b[0m\u001b[0mkeep_prob\u001b[0m\u001b[1;33m:\u001b[0m \u001b[0mconfig\u001b[0m\u001b[1;33m.\u001b[0m\u001b[0mdrop_out\u001b[0m\u001b[1;33m\u001b[0m\u001b[0m\n\u001b[0m\u001b[0;32m     18\u001b[0m                 })\n\u001b[0;32m     19\u001b[0m             \u001b[1;32mif\u001b[0m \u001b[0mi\u001b[0m\u001b[1;33m%\u001b[0m\u001b[1;36m200\u001b[0m \u001b[1;33m==\u001b[0m \u001b[1;36m0\u001b[0m\u001b[1;33m:\u001b[0m\u001b[1;33m\u001b[0m\u001b[0m\n",
      "\u001b[1;32mD:\\Softwares\\Anaconda\\envs\\tensorflow-gpu\\lib\\site-packages\\tensorflow\\python\\client\\session.py\u001b[0m in \u001b[0;36mrun\u001b[1;34m(self, fetches, feed_dict, options, run_metadata)\u001b[0m\n\u001b[0;32m    903\u001b[0m     \u001b[1;32mtry\u001b[0m\u001b[1;33m:\u001b[0m\u001b[1;33m\u001b[0m\u001b[0m\n\u001b[0;32m    904\u001b[0m       result = self._run(None, fetches, feed_dict, options_ptr,\n\u001b[1;32m--> 905\u001b[1;33m                          run_metadata_ptr)\n\u001b[0m\u001b[0;32m    906\u001b[0m       \u001b[1;32mif\u001b[0m \u001b[0mrun_metadata\u001b[0m\u001b[1;33m:\u001b[0m\u001b[1;33m\u001b[0m\u001b[0m\n\u001b[0;32m    907\u001b[0m         \u001b[0mproto_data\u001b[0m \u001b[1;33m=\u001b[0m \u001b[0mtf_session\u001b[0m\u001b[1;33m.\u001b[0m\u001b[0mTF_GetBuffer\u001b[0m\u001b[1;33m(\u001b[0m\u001b[0mrun_metadata_ptr\u001b[0m\u001b[1;33m)\u001b[0m\u001b[1;33m\u001b[0m\u001b[0m\n",
      "\u001b[1;32mD:\\Softwares\\Anaconda\\envs\\tensorflow-gpu\\lib\\site-packages\\tensorflow\\python\\client\\session.py\u001b[0m in \u001b[0;36m_run\u001b[1;34m(self, handle, fetches, feed_dict, options, run_metadata)\u001b[0m\n\u001b[0;32m   1135\u001b[0m     \u001b[1;32mif\u001b[0m \u001b[0mfinal_fetches\u001b[0m \u001b[1;32mor\u001b[0m \u001b[0mfinal_targets\u001b[0m \u001b[1;32mor\u001b[0m \u001b[1;33m(\u001b[0m\u001b[0mhandle\u001b[0m \u001b[1;32mand\u001b[0m \u001b[0mfeed_dict_tensor\u001b[0m\u001b[1;33m)\u001b[0m\u001b[1;33m:\u001b[0m\u001b[1;33m\u001b[0m\u001b[0m\n\u001b[0;32m   1136\u001b[0m       results = self._do_run(handle, final_targets, final_fetches,\n\u001b[1;32m-> 1137\u001b[1;33m                              feed_dict_tensor, options, run_metadata)\n\u001b[0m\u001b[0;32m   1138\u001b[0m     \u001b[1;32melse\u001b[0m\u001b[1;33m:\u001b[0m\u001b[1;33m\u001b[0m\u001b[0m\n\u001b[0;32m   1139\u001b[0m       \u001b[0mresults\u001b[0m \u001b[1;33m=\u001b[0m \u001b[1;33m[\u001b[0m\u001b[1;33m]\u001b[0m\u001b[1;33m\u001b[0m\u001b[0m\n",
      "\u001b[1;32mD:\\Softwares\\Anaconda\\envs\\tensorflow-gpu\\lib\\site-packages\\tensorflow\\python\\client\\session.py\u001b[0m in \u001b[0;36m_do_run\u001b[1;34m(self, handle, target_list, fetch_list, feed_dict, options, run_metadata)\u001b[0m\n\u001b[0;32m   1353\u001b[0m     \u001b[1;32mif\u001b[0m \u001b[0mhandle\u001b[0m \u001b[1;32mis\u001b[0m \u001b[1;32mNone\u001b[0m\u001b[1;33m:\u001b[0m\u001b[1;33m\u001b[0m\u001b[0m\n\u001b[0;32m   1354\u001b[0m       return self._do_call(_run_fn, self._session, feeds, fetches, targets,\n\u001b[1;32m-> 1355\u001b[1;33m                            options, run_metadata)\n\u001b[0m\u001b[0;32m   1356\u001b[0m     \u001b[1;32melse\u001b[0m\u001b[1;33m:\u001b[0m\u001b[1;33m\u001b[0m\u001b[0m\n\u001b[0;32m   1357\u001b[0m       \u001b[1;32mreturn\u001b[0m \u001b[0mself\u001b[0m\u001b[1;33m.\u001b[0m\u001b[0m_do_call\u001b[0m\u001b[1;33m(\u001b[0m\u001b[0m_prun_fn\u001b[0m\u001b[1;33m,\u001b[0m \u001b[0mself\u001b[0m\u001b[1;33m.\u001b[0m\u001b[0m_session\u001b[0m\u001b[1;33m,\u001b[0m \u001b[0mhandle\u001b[0m\u001b[1;33m,\u001b[0m \u001b[0mfeeds\u001b[0m\u001b[1;33m,\u001b[0m \u001b[0mfetches\u001b[0m\u001b[1;33m)\u001b[0m\u001b[1;33m\u001b[0m\u001b[0m\n",
      "\u001b[1;32mD:\\Softwares\\Anaconda\\envs\\tensorflow-gpu\\lib\\site-packages\\tensorflow\\python\\client\\session.py\u001b[0m in \u001b[0;36m_do_call\u001b[1;34m(self, fn, *args)\u001b[0m\n\u001b[0;32m   1359\u001b[0m   \u001b[1;32mdef\u001b[0m \u001b[0m_do_call\u001b[0m\u001b[1;33m(\u001b[0m\u001b[0mself\u001b[0m\u001b[1;33m,\u001b[0m \u001b[0mfn\u001b[0m\u001b[1;33m,\u001b[0m \u001b[1;33m*\u001b[0m\u001b[0margs\u001b[0m\u001b[1;33m)\u001b[0m\u001b[1;33m:\u001b[0m\u001b[1;33m\u001b[0m\u001b[0m\n\u001b[0;32m   1360\u001b[0m     \u001b[1;32mtry\u001b[0m\u001b[1;33m:\u001b[0m\u001b[1;33m\u001b[0m\u001b[0m\n\u001b[1;32m-> 1361\u001b[1;33m       \u001b[1;32mreturn\u001b[0m \u001b[0mfn\u001b[0m\u001b[1;33m(\u001b[0m\u001b[1;33m*\u001b[0m\u001b[0margs\u001b[0m\u001b[1;33m)\u001b[0m\u001b[1;33m\u001b[0m\u001b[0m\n\u001b[0m\u001b[0;32m   1362\u001b[0m     \u001b[1;32mexcept\u001b[0m \u001b[0merrors\u001b[0m\u001b[1;33m.\u001b[0m\u001b[0mOpError\u001b[0m \u001b[1;32mas\u001b[0m \u001b[0me\u001b[0m\u001b[1;33m:\u001b[0m\u001b[1;33m\u001b[0m\u001b[0m\n\u001b[0;32m   1363\u001b[0m       \u001b[0mmessage\u001b[0m \u001b[1;33m=\u001b[0m \u001b[0mcompat\u001b[0m\u001b[1;33m.\u001b[0m\u001b[0mas_text\u001b[0m\u001b[1;33m(\u001b[0m\u001b[0me\u001b[0m\u001b[1;33m.\u001b[0m\u001b[0mmessage\u001b[0m\u001b[1;33m)\u001b[0m\u001b[1;33m\u001b[0m\u001b[0m\n",
      "\u001b[1;32mD:\\Softwares\\Anaconda\\envs\\tensorflow-gpu\\lib\\site-packages\\tensorflow\\python\\client\\session.py\u001b[0m in \u001b[0;36m_run_fn\u001b[1;34m(session, feed_dict, fetch_list, target_list, options, run_metadata)\u001b[0m\n\u001b[0;32m   1338\u001b[0m         \u001b[1;32melse\u001b[0m\u001b[1;33m:\u001b[0m\u001b[1;33m\u001b[0m\u001b[0m\n\u001b[0;32m   1339\u001b[0m           return tf_session.TF_Run(session, options, feed_dict, fetch_list,\n\u001b[1;32m-> 1340\u001b[1;33m                                    target_list, status, run_metadata)\n\u001b[0m\u001b[0;32m   1341\u001b[0m \u001b[1;33m\u001b[0m\u001b[0m\n\u001b[0;32m   1342\u001b[0m     \u001b[1;32mdef\u001b[0m \u001b[0m_prun_fn\u001b[0m\u001b[1;33m(\u001b[0m\u001b[0msession\u001b[0m\u001b[1;33m,\u001b[0m \u001b[0mhandle\u001b[0m\u001b[1;33m,\u001b[0m \u001b[0mfeed_dict\u001b[0m\u001b[1;33m,\u001b[0m \u001b[0mfetch_list\u001b[0m\u001b[1;33m)\u001b[0m\u001b[1;33m:\u001b[0m\u001b[1;33m\u001b[0m\u001b[0m\n",
      "\u001b[1;31mKeyboardInterrupt\u001b[0m: "
     ]
    }
   ],
   "source": [
    "for i in range(5000):\n",
    "            if i==3500:\n",
    "                config.lr/=10\n",
    "            if i==20000:\n",
    "                config.lr/=10\n",
    "            index_train_batch = np.random.choice(index_train,size=config.B)\n",
    "            image_train_batch = image_all[index_train_batch,:,0:config.H,:]\n",
    "            yield_train_batch = yield_all[index_train_batch]\n",
    "            year_train_batch = year_all[index_train_batch,np.newaxis]\n",
    "\n",
    "            index_validate_batch = np.random.choice(index_validate, size=config.B)\n",
    "\n",
    "            _, train_loss = sess.run([model.train_op, model.loss_err], feed_dict={\n",
    "                model.x:image_train_batch,\n",
    "                model.y:yield_train_batch,\n",
    "                model.lr:config.lr,\n",
    "                model.keep_prob: config.drop_out\n",
    "                })\n",
    "            if i%200 == 0:\n",
    "                val_loss,fc6,W,B = sess.run([model.loss_err,model.fc6,model.dense_W,model.dense_B], feed_dict={\n",
    "                    model.x: image_all[index_validate_batch, :, 0:config.H, :],\n",
    "                    model.y: yield_all[index_validate_batch],\n",
    "                    model.keep_prob: 1\n",
    "                })\n",
    "                print ('predict year'+str(predict_year)+'step'+str(i),train_loss,val_loss,config.lr)\n",
    "                logging.info('predict year %d step %d %f %f %f',predict_year,i,train_loss,val_loss,config.lr)\n",
    "            if i%200 == 0:\n",
    "                # do validation\n",
    "                pred = []\n",
    "                real = []\n",
    "                size = image_validate.shape[0]//config.B\n",
    "                if(size==0):\n",
    "                    size=1\n",
    "                for j in range(size):\n",
    "                    real_temp = yield_validate[j * config.B:(j + 1) * config.B]\n",
    "                    pred_temp= sess.run(model.logits, feed_dict={\n",
    "                        model.x: image_validate[j * config.B:(j + 1) * config.B,:,0:config.H,:],\n",
    "                        model.y: yield_validate[j * config.B:(j + 1) * config.B],\n",
    "                        model.keep_prob: 1\n",
    "                        })\n",
    "                    pred.append(pred_temp)\n",
    "                    real.append(real_temp)\n",
    "                pred=np.concatenate([pred])\n",
    "                real=np.concatenate([real])\n",
    "                RMSE=np.sqrt(np.mean((pred-real)**2))\n",
    "                ME=np.mean(pred-real)\n",
    "\n",
    "                if RMSE<RMSE_min:\n",
    "                    RMSE_min=RMSE\n",
    "                    save_path = saver.save(sess, config.save_path + str(predict_year)+'CNN_model.ckpt')\n",
    "                    print('save in file: %s' % save_path)\n",
    "                    np.savez(config.save_path+str(predict_year)+'result.npz',\n",
    "                        summary_train_loss=summary_train_loss,summary_eval_loss=summary_eval_loss,\n",
    "                        summary_RMSE=summary_RMSE,summary_ME=summary_RMSE)\n",
    "\n",
    "                print ('Validation set','RMSE',RMSE,'ME',ME,'RMSE_min',RMSE_min)\n",
    "                logging.info('Validation set RMSE %f ME %f RMSE_min %f',RMSE,ME,RMSE_min)\n",
    "            \n",
    "                summary_train_loss.append(train_loss)\n",
    "                summary_eval_loss.append(val_loss)\n",
    "                summary_RMSE.append(RMSE)\n",
    "                summary_ME.append(ME)"
   ]
  },
  {
   "cell_type": "code",
   "execution_count": 18,
   "metadata": {},
   "outputs": [
    {
     "data": {
      "text/plain": [
       "6.2750656453848075"
      ]
     },
     "execution_count": 18,
     "metadata": {},
     "output_type": "execute_result"
    }
   ],
   "source": [
    "RMSE_min"
   ]
  },
  {
   "cell_type": "code",
   "execution_count": 19,
   "metadata": {},
   "outputs": [
    {
     "data": {
      "text/plain": [
       "array([[39.121326, 39.44974 , 39.546574, 43.650272, 46.711124, 54.660683,\n",
       "        68.06316 , 45.86041 , 37.637608, 42.220295, 39.178326]],\n",
       "      dtype=float32)"
      ]
     },
     "execution_count": 19,
     "metadata": {},
     "output_type": "execute_result"
    }
   ],
   "source": [
    "pred"
   ]
  },
  {
   "cell_type": "code",
   "execution_count": 31,
   "metadata": {
    "scrolled": false
   },
   "outputs": [
    {
     "data": {
      "text/plain": [
       "array([[39.8, 41.4, 39.3, 35.1, 42.4, 38.3, 41.9, 47.9, 38.7, 36.2, 40.7]])"
      ]
     },
     "execution_count": 31,
     "metadata": {},
     "output_type": "execute_result"
    }
   ],
   "source": [
    "real"
   ]
  },
  {
   "cell_type": "code",
   "execution_count": 20,
   "metadata": {},
   "outputs": [],
   "source": [
    "save_path = saver.save(sess, config.save_path + str(predict_year)+'CNN_model.ckpt')"
   ]
  },
  {
   "cell_type": "code",
   "execution_count": 21,
   "metadata": {},
   "outputs": [],
   "source": [
    "pred_out = []\n",
    "real_out = []\n",
    "feature_out = []\n",
    "year_out = []\n",
    "locations_out =[]\n",
    "index_out = []"
   ]
  },
  {
   "cell_type": "code",
   "execution_count": 22,
   "metadata": {},
   "outputs": [],
   "source": [
    "for i in range(image_all.shape[0] // config.B):\n",
    "            feature,pred = sess.run(\n",
    "                [model.fc6,model.logits], feed_dict={\n",
    "                model.x: image_all[i * config.B:(i + 1) * config.B,:,0:config.H,:],\n",
    "                model.y: yield_all[i * config.B:(i + 1) * config.B],\n",
    "                model.keep_prob:1\n",
    "            })\n",
    "            real = yield_all[i * config.B:(i + 1) * config.B]\n",
    "\n",
    "            pred_out.append(pred)\n",
    "            real_out.append(real)\n",
    "            feature_out.append(feature)\n",
    "            year_out.append(year_all[i * config.B:(i + 1) * config.B])\n",
    "            locations_out.append(locations_all[i * config.B:(i + 1) * config.B])\n",
    "            index_out.append(index_all[i * config.B:(i + 1) * config.B])\n",
    "            \n",
    "            weight_out, b_out = sess.run(\n",
    "            [model.dense_W, model.dense_B], feed_dict={\n",
    "                model.x: image_all[0 * config.B:(0 + 1) * config.B, :, 0:config.H, :],\n",
    "                model.y: yield_all[0 * config.B:(0 + 1) * config.B],\n",
    "                model.keep_prob: 1\n",
    "            })"
   ]
  },
  {
   "cell_type": "code",
   "execution_count": 23,
   "metadata": {},
   "outputs": [
    {
     "data": {
      "text/plain": [
       "[array([42.25983 , 50.456802, 46.033173, 42.074062, 45.885315, 41.273785,\n",
       "        42.786083, 38.080704, 45.86934 , 42.74468 , 45.600746, 43.348705,\n",
       "        41.93267 , 42.665573, 50.10074 , 47.033142, 42.40533 , 44.05136 ,\n",
       "        40.566536, 39.846798, 40.422882, 38.727703, 44.95927 , 40.10537 ,\n",
       "        44.01009 , 42.611713, 41.602406, 47.432   , 52.928482, 48.30193 ,\n",
       "        47.223476, 50.78968 ], dtype=float32),\n",
       " array([44.14109 , 50.042408, 41.608383, 50.028137, 45.11066 , 51.685356,\n",
       "        47.635014, 41.81874 , 37.883472, 41.827618, 41.751423, 39.389046,\n",
       "        39.370865, 40.24011 , 39.62405 , 38.601074, 38.97594 , 39.127575,\n",
       "        39.342457, 38.219406, 41.136444, 36.89819 , 36.92958 , 42.594032,\n",
       "        40.561607, 38.734295, 38.9596  , 40.271454, 37.36264 , 41.300972,\n",
       "        42.39687 , 38.54768 ], dtype=float32),\n",
       " array([41.661674, 34.500168, 40.05924 , 38.198322, 34.33536 , 33.84729 ,\n",
       "        35.72243 , 37.867115, 34.48329 , 36.546978, 32.360645, 35.1604  ,\n",
       "        35.413155, 34.021328, 36.17486 , 34.950573, 34.777287, 34.366318,\n",
       "        35.3266  , 32.782627, 34.690544, 37.548706, 34.761173, 43.16868 ,\n",
       "        52.249626, 44.225967, 48.731686, 33.467087, 50.213547, 53.322693,\n",
       "        61.724293, 55.399544], dtype=float32),\n",
       " array([50.03647 , 37.469505, 42.14103 , 42.738724, 44.149223, 45.242363,\n",
       "        52.254723, 65.87483 , 44.807285, 36.130432, 40.786896, 38.954876,\n",
       "        40.13665 , 43.221287, 45.188496, 55.372307, 46.012997, 35.491795,\n",
       "        40.528835, 38.55157 , 44.783287, 49.793365, 43.167744, 37.608425,\n",
       "        41.75405 , 40.028374, 37.50983 , 36.3711  , 37.87696 , 41.54392 ,\n",
       "        38.4024  , 34.0997  ], dtype=float32),\n",
       " array([35.832104, 41.48429 , 46.55237 , 59.53601 , 44.668736, 35.21179 ,\n",
       "        40.120422, 40.982174, 37.398396, 35.134743, 38.93235 , 51.158173,\n",
       "        36.578793, 34.958706, 34.952335, 34.825165, 38.082325, 38.77751 ,\n",
       "        46.451775, 54.123436, 49.10486 , 43.45786 , 33.07805 , 34.51222 ,\n",
       "        34.295677, 37.907562, 40.251663, 45.842392, 62.620224, 54.547573,\n",
       "        43.066536, 34.748005], dtype=float32),\n",
       " array([37.6277  , 37.780617, 38.458324, 38.387383, 38.39862 , 46.364906,\n",
       "        40.479805, 38.409615, 34.378426, 34.81683 , 33.811565, 43.707077,\n",
       "        43.539783, 45.105034, 66.62501 , 64.80832 , 46.111095, 35.79195 ,\n",
       "        41.32521 , 37.218624, 40.03544 , 45.463566, 51.42483 , 46.65897 ,\n",
       "        36.669678, 38.845455, 38.031452, 36.276333, 36.773125, 36.869213,\n",
       "        37.39262 , 36.937122], dtype=float32)]"
      ]
     },
     "execution_count": 23,
     "metadata": {},
     "output_type": "execute_result"
    }
   ],
   "source": [
    "pred_out"
   ]
  },
  {
   "cell_type": "code",
   "execution_count": 24,
   "metadata": {},
   "outputs": [],
   "source": [
    "pred_out=np.concatenate(pred_out)\n",
    "real_out=np.concatenate(real_out)\n",
    "feature_out=np.concatenate(feature_out)\n",
    "year_out=np.concatenate(year_out)\n",
    "locations_out=np.concatenate(locations_out)\n",
    "index_out=np.concatenate(index_out)"
   ]
  },
  {
   "cell_type": "code",
   "execution_count": 25,
   "metadata": {},
   "outputs": [],
   "source": [
    "path = config.save_path + str(predict_year)+'result_prediction.npz'\n",
    "np.savez(path,\n",
    "            pred_out=pred_out,real_out=real_out,feature_out=feature_out,\n",
    "            year_out=year_out,locations_out=locations_out,weight_out=weight_out,b_out=b_out,index_out=index_out)\n",
    "np.savez(config.save_path+str(predict_year)+'result.npz',\n",
    "                        summary_train_loss=summary_train_loss,summary_eval_loss=summary_eval_loss,\n",
    "                        summary_RMSE=summary_RMSE,summary_ME=summary_ME)"
   ]
  },
  {
   "cell_type": "code",
   "execution_count": 26,
   "metadata": {},
   "outputs": [],
   "source": [
    "npzfile = np.load(config.save_path+str(predict_year)+'result.npz')\n",
    "summary_train_loss=npzfile['summary_train_loss']\n",
    "summary_eval_loss=npzfile['summary_eval_loss']\n",
    "summary_RMSE = npzfile['summary_RMSE']\n",
    "summary_ME = npzfile['summary_ME']"
   ]
  },
  {
   "cell_type": "code",
   "execution_count": 27,
   "metadata": {},
   "outputs": [
    {
     "data": {
      "image/png": "[encoded data removed]",
      "text/plain": [
       "<Figure size 432x288 with 1 Axes>"
      ]
     },
     "metadata": {},
     "output_type": "display_data"
    }
   ],
   "source": [
    "plt.plot(range(len(summary_train_loss)), summary_train_loss)\n",
    "plt.plot(range(len(summary_eval_loss)), summary_eval_loss)\n",
    "plt.xlabel('Training steps')\n",
    "plt.ylabel('L2 loss')\n",
    "plt.title('Loss curve')\n",
    "plt.legend(['Train', 'Validate'])\n",
    "plt.show()"
   ]
  },
  {
   "cell_type": "code",
   "execution_count": 28,
   "metadata": {},
   "outputs": [
    {
     "data": {
      "image/png": "[encoded data removed]",
      "text/plain": [
       "<Figure size 432x288 with 1 Axes>"
      ]
     },
     "metadata": {},
     "output_type": "display_data"
    }
   ],
   "source": [
    "plt.plot(range(len(summary_RMSE)), summary_RMSE)\n",
    "        # plt.plot(range(len(summary_ME)), summary_ME)\n",
    "plt.xlabel('Training steps')\n",
    "plt.ylabel('Error')\n",
    "plt.title('RMSE')\n",
    "        # plt.legend(['RMSE', 'ME'])\n",
    "plt.show()"
   ]
  },
  {
   "cell_type": "code",
   "execution_count": 30,
   "metadata": {},
   "outputs": [
    {
     "data": {
      "image/png": "[encoded data removed]",
      "text/plain": [
       "<Figure size 432x288 with 1 Axes>"
      ]
     },
     "metadata": {},
     "output_type": "display_data"
    }
   ],
   "source": [
    "plt.plot(range(len(summary_ME)), summary_ME)\n",
    "plt.xlabel('Training steps')\n",
    "plt.ylabel('Error')\n",
    "plt.title('ME')\n",
    "        # plt.legend(['RMSE', 'ME'])\n",
    "plt.show()"
   ]
  }
 ],
 "metadata": {
  "kernelspec": {
   "display_name": "Python [conda env:tensorflow-gpu]",
   "language": "python",
   "name": "conda-env-tensorflow-gpu-py"
  },
  "language_info": {
   "codemirror_mode": {
    "name": "ipython",
    "version": 3
   },
   "file_extension": ".py",
   "mimetype": "text/x-python",
   "name": "python",
   "nbconvert_exporter": "python",
   "pygments_lexer": "ipython3",
   "version": "3.6.4"
  }
 },
 "nbformat": 4,
 "nbformat_minor": 2
}
