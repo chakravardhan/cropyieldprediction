{
 "cells": [
  {
   "cell_type": "code",
   "execution_count": null,
   "metadata": {},
   "outputs": [],
   "source": [
    "import numpy as np\n",
    "import gdal\n",
    "from joblib import Parallel, delayed\n",
    "import datetime\n",
    "import bucket_util as bu"
   ]
  },
  {
   "cell_type": "code",
   "execution_count": null,
   "metadata": {},
   "outputs": [],
   "source": [
    "# divides the image numpy array into list of values corresponding to each year \n",
    "def divide_image(img,first,step,num):\n",
    "    image_list=[]\n",
    "    for i in range(0,num-1):\n",
    "        image_list.append(img[:, :, first:first+step])\n",
    "        first+=step\n",
    "    image_list.append(img[:, :, first:])\n",
    "    return image_list"
   ]
  },
  {
   "cell_type": "code",
   "execution_count": null,
   "metadata": {},
   "outputs": [],
   "source": [
    "# extends the mask image to 14 with negative values.\n",
    "def extend_mask(img,num):\n",
    "    for i in range(0,num):\n",
    "        img = np.concatenate((img, img[:,:,-2:-1]),axis=2)\n",
    "    return img"
   ]
  },
  {
   "cell_type": "code",
   "execution_count": null,
   "metadata": {},
   "outputs": [],
   "source": [
    "def merge_image(MODIS_img_list,MODIS_temperature_img_list):\n",
    "    MODIS_list=[]\n",
    "    for i in range(0,len(MODIS_img_list)):\n",
    "        img_shape=MODIS_img_list[i].shape\n",
    "        img_temperature_shape=MODIS_temperature_img_list[i].shape\n",
    "        img_shape_new=(img_shape[0],img_shape[1],img_shape[2]+img_temperature_shape[2])\n",
    "        merge=np.empty(img_shape_new)\n",
    "        for j in range(0,img_shape[2]//7):\n",
    "            img=MODIS_img_list[i][:,:,(j*7):(j*7+7)]\n",
    "            temperature=MODIS_temperature_img_list[i][:,:,(j*2):(j*2+2)]\n",
    "            merge[:,:,(j*9):(j*9+9)]=np.concatenate((img,temperature),axis=2)\n",
    "        MODIS_list.append(merge)\n",
    "    return MODIS_list"
   ]
  },
  {
   "cell_type": "code",
   "execution_count": null,
   "metadata": {},
   "outputs": [],
   "source": [
    "def mask_image(MODIS_list,MODIS_mask_img_list):\n",
    "    MODIS_list_masked = []\n",
    "    for i in range(0, len(MODIS_list)):\n",
    "        mask = np.tile(MODIS_mask_img_list[i],(1,1,MODIS_list[i].shape[2]))\n",
    "        masked_img = MODIS_list[i]*mask\n",
    "        MODIS_list_masked.append(masked_img)\n",
    "    return MODIS_list_masked"
   ]
  },
  {
   "cell_type": "code",
   "execution_count": null,
   "metadata": {},
   "outputs": [],
   "source": [
    "bu.setBucketLocation('D:\\crop-yield-prediction-project-master\\clean_data\\images')\n",
    "files = bu.walk('data', 'image_full')"
   ]
  },
  {
   "cell_type": "code",
   "execution_count": null,
   "metadata": {},
   "outputs": [],
   "source": [
    "file = list(files)\n",
    "file"
   ]
  },
  {
   "cell_type": "code",
   "execution_count": null,
   "metadata": {},
   "outputs": [],
   "source": [
    "fileinfo = file[1]"
   ]
  },
  {
   "cell_type": "code",
   "execution_count": null,
   "metadata": {},
   "outputs": [],
   "source": [
    "prefix, datatype, file = fileinfo"
   ]
  },
  {
   "cell_type": "code",
   "execution_count": null,
   "metadata": {},
   "outputs": [],
   "source": [
    "data_yield = np.genfromtxt('yield_final.csv', delimiter=',', dtype=float)"
   ]
  },
  {
   "cell_type": "code",
   "execution_count": null,
   "metadata": {},
   "outputs": [],
   "source": [
    "MODIS_path = bu.getFullPath(fileinfo)\n",
    "MODIS_temperature_path = bu.getFullPath(bu.replaceDatatype(fileinfo, 'temperature'))\n",
    "MODIS_mask_path = bu.getFullPath(bu.replaceDatatype(fileinfo, 'mask'))"
   ]
  },
  {
   "cell_type": "code",
   "execution_count": null,
   "metadata": {},
   "outputs": [],
   "source": [
    "raw = file.replace('_',' ').replace('.',' ').split()\n",
    "loc1 = int(raw[0])\n",
    "loc2 = int(raw[1])"
   ]
  },
  {
   "cell_type": "code",
   "execution_count": null,
   "metadata": {},
   "outputs": [],
   "source": [
    "try:\n",
    "    MODIS_img = np.transpose(np.array(gdal.Open(MODIS_path).ReadAsArray(), dtype='uint16'),axes=(1,2,0))\n",
    "except ValueError as msg:\n",
    "    print (msg)"
   ]
  },
  {
   "cell_type": "code",
   "execution_count": null,
   "metadata": {},
   "outputs": [],
   "source": [
    "MODIS_img.shape # rows x coloums x (46 images (approx) * 7 bands * 14 years)"
   ]
  },
  {
   "cell_type": "code",
   "execution_count": null,
   "metadata": {},
   "outputs": [],
   "source": [
    "MODIS_temperature_img = np.transpose(np.array(gdal.Open(MODIS_temperature_path).ReadAsArray(), dtype='uint16'),axes=(1,2,0))"
   ]
  },
  {
   "cell_type": "code",
   "execution_count": null,
   "metadata": {},
   "outputs": [],
   "source": [
    "MODIS_temperature_img.shape # rows x coloums x (46 images (approx) * 2 bands * 14 years)"
   ]
  },
  {
   "cell_type": "code",
   "execution_count": null,
   "metadata": {},
   "outputs": [],
   "source": [
    "# shift\n",
    "MODIS_temperature_img = MODIS_temperature_img-12000\n",
    "# scale\n",
    "MODIS_temperature_img = MODIS_temperature_img*1.25\n",
    "# clean\n",
    "MODIS_temperature_img[MODIS_temperature_img<0]=0\n",
    "MODIS_temperature_img[MODIS_temperature_img>5000]=5000"
   ]
  },
  {
   "cell_type": "code",
   "execution_count": null,
   "metadata": {},
   "outputs": [],
   "source": [
    "MODIS_mask_img = np.transpose(np.array(gdal.Open(MODIS_mask_path).ReadAsArray(), dtype='uint16'),axes=(1,2,0))"
   ]
  },
  {
   "cell_type": "code",
   "execution_count": null,
   "metadata": {},
   "outputs": [],
   "source": [
    "MODIS_mask_img.shape"
   ]
  },
  {
   "cell_type": "code",
   "execution_count": null,
   "metadata": {},
   "outputs": [],
   "source": [
    "MODIS_img_list=divide_image(MODIS_img, 0, 46 * 7, 14)\n",
    "MODIS_temperature_img_list = divide_image(MODIS_temperature_img, 0, 46 * 2, 14)\n",
    "MODIS_mask_img = extend_mask(MODIS_mask_img, 3)\n",
    "MODIS_mask_img_list = divide_image(MODIS_mask_img, 0, 1, 14)"
   ]
  },
  {
   "cell_type": "code",
   "execution_count": null,
   "metadata": {},
   "outputs": [],
   "source": [
    "len(MODIS_img_list)"
   ]
  },
  {
   "cell_type": "code",
   "execution_count": null,
   "metadata": {},
   "outputs": [],
   "source": [
    "img_shape=MODIS_img_list[0].shape\n",
    "img_shape"
   ]
  },
  {
   "cell_type": "code",
   "execution_count": null,
   "metadata": {},
   "outputs": [],
   "source": [
    "MODIS_list = merge_image(MODIS_img_list,MODIS_temperature_img_list)"
   ]
  },
  {
   "cell_type": "code",
   "execution_count": null,
   "metadata": {},
   "outputs": [],
   "source": [
    "len(MODIS_list)"
   ]
  },
  {
   "cell_type": "code",
   "execution_count": null,
   "metadata": {},
   "outputs": [],
   "source": [
    "img_shape=MODIS_list[0].shape\n",
    "img_shape"
   ]
  },
  {
   "cell_type": "code",
   "execution_count": null,
   "metadata": {},
   "outputs": [],
   "source": [
    "MODIS_list_masked = mask_image(MODIS_list,MODIS_mask_img_list)"
   ]
  },
  {
   "cell_type": "code",
   "execution_count": null,
   "metadata": {},
   "outputs": [],
   "source": [
    "mask = np.tile(MODIS_mask_img_list[0],(1,1,MODIS_list[0].shape[2]))\n",
    "mask.shape"
   ]
  },
  {
   "cell_type": "code",
   "execution_count": null,
   "metadata": {
    "scrolled": true
   },
   "outputs": [],
   "source": [
    "MODIS_list_masked[0].shape"
   ]
  },
  {
   "cell_type": "code",
   "execution_count": null,
   "metadata": {},
   "outputs": [],
   "source": [
    "120*103*414"
   ]
  },
  {
   "cell_type": "code",
   "execution_count": null,
   "metadata": {
    "scrolled": true
   },
   "outputs": [],
   "source": [
    "np.count_nonzero(MODIS_list_masked[11])"
   ]
  },
  {
   "cell_type": "code",
   "execution_count": null,
   "metadata": {},
   "outputs": [],
   "source": [
    "len(MODIS_list_masked)"
   ]
  },
  {
   "cell_type": "code",
   "execution_count": null,
   "metadata": {},
   "outputs": [],
   "source": [
    "year_start = 2003\n",
    "bu.setBucketLocation('D:\\itd\\cleandata')"
   ]
  },
  {
   "cell_type": "code",
   "execution_count": null,
   "metadata": {},
   "outputs": [],
   "source": [
    "for i in range(0, 14):\n",
    "            year = i+year_start\n",
    "            key = np.array([year,loc1,loc2])\n",
    "            if np.sum(np.all(data_yield[:,0:3] == key, axis=1))>0:\n",
    "                ## 1 save original file\n",
    "                filename = bu.getFullPath((prefix, 'output_full', str(year)+'_'+str(loc1)+'_'+str(loc2)+'.npy'))\n",
    "                np.save(filename,MODIS_list_masked[i])\n",
    "                print (datetime.datetime.now())\n",
    "                print (filename,':written ')"
   ]
  },
  {
   "cell_type": "code",
   "execution_count": null,
   "metadata": {},
   "outputs": [],
   "source": [
    "for f in file:\n",
    "    prefix, datatype, file = f\n",
    "    data_yield = np.genfromtxt('yield_final.csv', delimiter=',', dtype=float)\n",
    "    MODIS_path = bu.getFullPath(f)\n",
    "    MODIS_temperature_path = bu.getFullPath(bu.replaceDatatype(f, 'temperature'))\n",
    "    MODIS_mask_path = bu.getFullPath(bu.replaceDatatype(f, 'mask'))\n",
    "    raw = file.replace('_',' ').replace('.',' ').split()\n",
    "    loc1 = int(raw[0])\n",
    "    loc2 = int(raw[1])\n",
    "    try:\n",
    "        MODIS_img = np.transpose(np.array(gdal.Open(MODIS_path).ReadAsArray(), dtype='uint16'),axes=(1,2,0))\n",
    "    except ValueError as msg:\n",
    "        print (msg)\n",
    "    MODIS_temperature_img = np.transpose(np.array(gdal.Open(MODIS_temperature_path).ReadAsArray(), dtype='uint16'),axes=(1,2,0))\n",
    " # shift\n",
    "    MODIS_temperature_img = MODIS_temperature_img-12000\n",
    "        # scale\n",
    "    MODIS_temperature_img = MODIS_temperature_img*1.25\n",
    "        # clean\n",
    "    MODIS_temperature_img[MODIS_temperature_img<0]=0\n",
    "    MODIS_temperature_img[MODIS_temperature_img>5000]=5000\n",
    "    MODIS_mask_img = np.transpose(np.array(gdal.Open(MODIS_mask_path).ReadAsArray(), dtype='uint16'),axes=(1,2,0))\n",
    "        # Non-crop = 0, crop = 1\n",
    "    MODIS_mask_img[MODIS_mask_img != 12] = 0\n",
    "    MODIS_mask_img[MODIS_mask_img == 12] = 1\n",
    "    MODIS_img_list=divide_image(MODIS_img, 0, 46 * 7, 14)\n",
    "    MODIS_temperature_img_list = divide_image(MODIS_temperature_img, 0, 46 * 2, 14)\n",
    "    MODIS_mask_img = extend_mask(MODIS_mask_img, 3)\n",
    "    MODIS_mask_img_list = divide_image(MODIS_mask_img, 0, 1, 14)\n",
    "    MODIS_list = merge_image(MODIS_img_list,MODIS_temperature_img_list)\n",
    "        # Do the mask job\n",
    "    MODIS_list_masked = mask_image(MODIS_list,MODIS_mask_img_list)\n",
    "    year_start = 2003\n",
    "    bu.setBucketLocation('D:\\itd\\cleandata')\n",
    "    for i in range(0, 14):\n",
    "            year = i+year_start\n",
    "            key = np.array([year,loc1,loc2])\n",
    "            if np.sum(np.all(data_yield[:,0:3] == key, axis=1))>0:\n",
    "                ## 1 save original file\n",
    "                filename = bu.getFullPath((prefix, 'output_full', str(year)+'_'+str(loc1)+'_'+str(loc2)+'.npy'))\n",
    "                np.save(filename,MODIS_list_masked[i])\n",
    "                print (datetime.datetime.now())\n",
    "                print (filename,':written ')\n",
    "    bu.setBucketLocation('D:\\crop-yield-prediction-project-master\\clean_data\\images')"
   ]
  }
 ],
 "metadata": {
  "kernelspec": {
   "display_name": "Python [conda env:tensorflow-gpu]",
   "language": "python",
   "name": "conda-env-tensorflow-gpu-py"
  },
  "language_info": {
   "codemirror_mode": {
    "name": "ipython",
    "version": 3
   },
   "file_extension": ".py",
   "mimetype": "text/x-python",
   "name": "python",
   "nbconvert_exporter": "python",
   "pygments_lexer": "ipython3",
   "version": "3.6.4"
  }
 },
 "nbformat": 4,
 "nbformat_minor": 2
}
